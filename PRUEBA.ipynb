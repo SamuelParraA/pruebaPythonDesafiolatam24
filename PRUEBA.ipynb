{
 "cells": [
  {
   "cell_type": "markdown",
   "id": "8936b387",
   "metadata": {},
   "source": [
    "# Prueba"
   ]
  },
  {
   "cell_type": "code",
   "execution_count": 1,
   "id": "2572697b",
   "metadata": {},
   "outputs": [],
   "source": [
    "import psycopg2 # Se conecta a postgre\n",
    "import pandas.io.sql as pdsql # transforma las salidas de postgre en formato pandas dataframe\n",
    "import warnings\n",
    "import pandas as pd\n",
    "warnings.filterwarnings(\"ignore\")"
   ]
  },
  {
   "cell_type": "code",
   "execution_count": 2,
   "id": "a3632a1d",
   "metadata": {},
   "outputs": [],
   "source": [
    "clave = 'Insert_Clave'"
   ]
  },
  {
   "cell_type": "markdown",
   "id": "880f6c30",
   "metadata": {},
   "source": [
    "## 1. \n",
    "Genera una función llamada leer_tabla(tabla, engine) y utilízala para leer tablas\n",
    " completas desde la base de datos en dataframes independientes. Utilizando esta\n",
    " función, importa las siguientes tablas:\n",
    " - order\n",
    " - orderdetails\n",
    " - customers\n",
    " - products\n",
    " - employees"
   ]
  },
  {
   "cell_type": "code",
   "execution_count": 3,
   "id": "180e8467",
   "metadata": {},
   "outputs": [],
   "source": [
    "#Creamos el objeto engine:\n",
    "engine = psycopg2.connect(user ='postgres',\n",
    "                                 password = clave,\n",
    "                                 host = '127.0.0.1',\n",
    "                                 port = 5432,\n",
    "                                 database = 'classicmodels')"
   ]
  },
  {
   "cell_type": "code",
   "execution_count": 4,
   "id": "3694adc3",
   "metadata": {},
   "outputs": [],
   "source": [
    "#generamos la funcion leer_tabla\n",
    "def leer_tabla(tabla, engine): \n",
    "\n",
    "    df = pdsql.read_sql_query(f\"SELECT * FROM {tabla}\", engine)\n",
    "\n",
    "    return df"
   ]
  },
  {
   "cell_type": "code",
   "execution_count": 5,
   "id": "86a31911",
   "metadata": {},
   "outputs": [
    {
     "data": {
      "text/html": [
       "<div>\n",
       "<style scoped>\n",
       "    .dataframe tbody tr th:only-of-type {\n",
       "        vertical-align: middle;\n",
       "    }\n",
       "\n",
       "    .dataframe tbody tr th {\n",
       "        vertical-align: top;\n",
       "    }\n",
       "\n",
       "    .dataframe thead th {\n",
       "        text-align: right;\n",
       "    }\n",
       "</style>\n",
       "<table border=\"1\" class=\"dataframe\">\n",
       "  <thead>\n",
       "    <tr style=\"text-align: right;\">\n",
       "      <th></th>\n",
       "      <th>orderNumber</th>\n",
       "      <th>orderDate</th>\n",
       "      <th>requiredDate</th>\n",
       "      <th>shippedDate</th>\n",
       "      <th>status</th>\n",
       "      <th>comments</th>\n",
       "      <th>customerNumber</th>\n",
       "    </tr>\n",
       "  </thead>\n",
       "  <tbody>\n",
       "    <tr>\n",
       "      <th>0</th>\n",
       "      <td>10100</td>\n",
       "      <td>2003-01-06</td>\n",
       "      <td>2003-01-13</td>\n",
       "      <td>2003-01-10</td>\n",
       "      <td>Shipped</td>\n",
       "      <td>None</td>\n",
       "      <td>363</td>\n",
       "    </tr>\n",
       "    <tr>\n",
       "      <th>1</th>\n",
       "      <td>10101</td>\n",
       "      <td>2003-01-09</td>\n",
       "      <td>2003-01-18</td>\n",
       "      <td>2003-01-11</td>\n",
       "      <td>Shipped</td>\n",
       "      <td>Check on availability.</td>\n",
       "      <td>128</td>\n",
       "    </tr>\n",
       "    <tr>\n",
       "      <th>2</th>\n",
       "      <td>10102</td>\n",
       "      <td>2003-01-10</td>\n",
       "      <td>2003-01-18</td>\n",
       "      <td>2003-01-14</td>\n",
       "      <td>Shipped</td>\n",
       "      <td>None</td>\n",
       "      <td>181</td>\n",
       "    </tr>\n",
       "    <tr>\n",
       "      <th>3</th>\n",
       "      <td>10103</td>\n",
       "      <td>2003-01-29</td>\n",
       "      <td>2003-02-07</td>\n",
       "      <td>2003-02-02</td>\n",
       "      <td>Shipped</td>\n",
       "      <td>None</td>\n",
       "      <td>121</td>\n",
       "    </tr>\n",
       "    <tr>\n",
       "      <th>4</th>\n",
       "      <td>10104</td>\n",
       "      <td>2003-01-31</td>\n",
       "      <td>2003-02-09</td>\n",
       "      <td>2003-02-01</td>\n",
       "      <td>Shipped</td>\n",
       "      <td>None</td>\n",
       "      <td>141</td>\n",
       "    </tr>\n",
       "    <tr>\n",
       "      <th>...</th>\n",
       "      <td>...</td>\n",
       "      <td>...</td>\n",
       "      <td>...</td>\n",
       "      <td>...</td>\n",
       "      <td>...</td>\n",
       "      <td>...</td>\n",
       "      <td>...</td>\n",
       "    </tr>\n",
       "    <tr>\n",
       "      <th>321</th>\n",
       "      <td>10421</td>\n",
       "      <td>2005-05-29</td>\n",
       "      <td>2005-06-06</td>\n",
       "      <td>None</td>\n",
       "      <td>In Process</td>\n",
       "      <td>Custom shipping instructions were sent to ware...</td>\n",
       "      <td>124</td>\n",
       "    </tr>\n",
       "    <tr>\n",
       "      <th>322</th>\n",
       "      <td>10422</td>\n",
       "      <td>2005-05-30</td>\n",
       "      <td>2005-06-11</td>\n",
       "      <td>None</td>\n",
       "      <td>In Process</td>\n",
       "      <td>None</td>\n",
       "      <td>157</td>\n",
       "    </tr>\n",
       "    <tr>\n",
       "      <th>323</th>\n",
       "      <td>10423</td>\n",
       "      <td>2005-05-30</td>\n",
       "      <td>2005-06-05</td>\n",
       "      <td>None</td>\n",
       "      <td>In Process</td>\n",
       "      <td>None</td>\n",
       "      <td>314</td>\n",
       "    </tr>\n",
       "    <tr>\n",
       "      <th>324</th>\n",
       "      <td>10424</td>\n",
       "      <td>2005-05-31</td>\n",
       "      <td>2005-06-08</td>\n",
       "      <td>None</td>\n",
       "      <td>In Process</td>\n",
       "      <td>None</td>\n",
       "      <td>141</td>\n",
       "    </tr>\n",
       "    <tr>\n",
       "      <th>325</th>\n",
       "      <td>10425</td>\n",
       "      <td>2005-05-31</td>\n",
       "      <td>2005-06-07</td>\n",
       "      <td>None</td>\n",
       "      <td>In Process</td>\n",
       "      <td>None</td>\n",
       "      <td>119</td>\n",
       "    </tr>\n",
       "  </tbody>\n",
       "</table>\n",
       "<p>326 rows × 7 columns</p>\n",
       "</div>"
      ],
      "text/plain": [
       "     orderNumber   orderDate requiredDate shippedDate      status  \\\n",
       "0          10100  2003-01-06   2003-01-13  2003-01-10     Shipped   \n",
       "1          10101  2003-01-09   2003-01-18  2003-01-11     Shipped   \n",
       "2          10102  2003-01-10   2003-01-18  2003-01-14     Shipped   \n",
       "3          10103  2003-01-29   2003-02-07  2003-02-02     Shipped   \n",
       "4          10104  2003-01-31   2003-02-09  2003-02-01     Shipped   \n",
       "..           ...         ...          ...         ...         ...   \n",
       "321        10421  2005-05-29   2005-06-06        None  In Process   \n",
       "322        10422  2005-05-30   2005-06-11        None  In Process   \n",
       "323        10423  2005-05-30   2005-06-05        None  In Process   \n",
       "324        10424  2005-05-31   2005-06-08        None  In Process   \n",
       "325        10425  2005-05-31   2005-06-07        None  In Process   \n",
       "\n",
       "                                              comments  customerNumber  \n",
       "0                                                 None             363  \n",
       "1                               Check on availability.             128  \n",
       "2                                                 None             181  \n",
       "3                                                 None             121  \n",
       "4                                                 None             141  \n",
       "..                                                 ...             ...  \n",
       "321  Custom shipping instructions were sent to ware...             124  \n",
       "322                                               None             157  \n",
       "323                                               None             314  \n",
       "324                                               None             141  \n",
       "325                                               None             119  \n",
       "\n",
       "[326 rows x 7 columns]"
      ]
     },
     "execution_count": 5,
     "metadata": {},
     "output_type": "execute_result"
    }
   ],
   "source": [
    "leer_tabla('orders',engine)"
   ]
  },
  {
   "cell_type": "markdown",
   "id": "804b8ccd",
   "metadata": {},
   "source": [
    "## Usamos leer_tabla para leer tablas\n",
    "## completas desde la base de datos en dataframes independientes. Utilizando esta\n",
    "## función, importa las siguientes tablas:"
   ]
  },
  {
   "cell_type": "code",
   "execution_count": 6,
   "id": "219bb7fd",
   "metadata": {},
   "outputs": [],
   "source": [
    "df_orders = leer_tabla('orders',engine)\n",
    "df_orderdetails = leer_tabla('orderdetails',engine)\n",
    "df_customers = leer_tabla('customers',engine)\n",
    "df_products = leer_tabla('products',engine)\n",
    "df_employees = leer_tabla('employees',engine)\n"
   ]
  },
  {
   "cell_type": "code",
   "execution_count": 7,
   "id": "94e6a838",
   "metadata": {},
   "outputs": [
    {
     "data": {
      "text/html": [
       "<div>\n",
       "<style scoped>\n",
       "    .dataframe tbody tr th:only-of-type {\n",
       "        vertical-align: middle;\n",
       "    }\n",
       "\n",
       "    .dataframe tbody tr th {\n",
       "        vertical-align: top;\n",
       "    }\n",
       "\n",
       "    .dataframe thead th {\n",
       "        text-align: right;\n",
       "    }\n",
       "</style>\n",
       "<table border=\"1\" class=\"dataframe\">\n",
       "  <thead>\n",
       "    <tr style=\"text-align: right;\">\n",
       "      <th></th>\n",
       "      <th>orderNumber</th>\n",
       "      <th>orderDate</th>\n",
       "      <th>requiredDate</th>\n",
       "      <th>shippedDate</th>\n",
       "      <th>status</th>\n",
       "      <th>comments</th>\n",
       "      <th>customerNumber</th>\n",
       "    </tr>\n",
       "  </thead>\n",
       "  <tbody>\n",
       "    <tr>\n",
       "      <th>0</th>\n",
       "      <td>10100</td>\n",
       "      <td>2003-01-06</td>\n",
       "      <td>2003-01-13</td>\n",
       "      <td>2003-01-10</td>\n",
       "      <td>Shipped</td>\n",
       "      <td>None</td>\n",
       "      <td>363</td>\n",
       "    </tr>\n",
       "    <tr>\n",
       "      <th>1</th>\n",
       "      <td>10101</td>\n",
       "      <td>2003-01-09</td>\n",
       "      <td>2003-01-18</td>\n",
       "      <td>2003-01-11</td>\n",
       "      <td>Shipped</td>\n",
       "      <td>Check on availability.</td>\n",
       "      <td>128</td>\n",
       "    </tr>\n",
       "    <tr>\n",
       "      <th>2</th>\n",
       "      <td>10102</td>\n",
       "      <td>2003-01-10</td>\n",
       "      <td>2003-01-18</td>\n",
       "      <td>2003-01-14</td>\n",
       "      <td>Shipped</td>\n",
       "      <td>None</td>\n",
       "      <td>181</td>\n",
       "    </tr>\n",
       "  </tbody>\n",
       "</table>\n",
       "</div>"
      ],
      "text/plain": [
       "   orderNumber   orderDate requiredDate shippedDate   status  \\\n",
       "0        10100  2003-01-06   2003-01-13  2003-01-10  Shipped   \n",
       "1        10101  2003-01-09   2003-01-18  2003-01-11  Shipped   \n",
       "2        10102  2003-01-10   2003-01-18  2003-01-14  Shipped   \n",
       "\n",
       "                 comments  customerNumber  \n",
       "0                    None             363  \n",
       "1  Check on availability.             128  \n",
       "2                    None             181  "
      ]
     },
     "execution_count": 7,
     "metadata": {},
     "output_type": "execute_result"
    }
   ],
   "source": [
    "df_orders.head(3)"
   ]
  },
  {
   "cell_type": "code",
   "execution_count": 8,
   "id": "02d3251d",
   "metadata": {},
   "outputs": [
    {
     "data": {
      "text/html": [
       "<div>\n",
       "<style scoped>\n",
       "    .dataframe tbody tr th:only-of-type {\n",
       "        vertical-align: middle;\n",
       "    }\n",
       "\n",
       "    .dataframe tbody tr th {\n",
       "        vertical-align: top;\n",
       "    }\n",
       "\n",
       "    .dataframe thead th {\n",
       "        text-align: right;\n",
       "    }\n",
       "</style>\n",
       "<table border=\"1\" class=\"dataframe\">\n",
       "  <thead>\n",
       "    <tr style=\"text-align: right;\">\n",
       "      <th></th>\n",
       "      <th>orderNumber</th>\n",
       "      <th>orderDate</th>\n",
       "      <th>requiredDate</th>\n",
       "      <th>shippedDate</th>\n",
       "      <th>status</th>\n",
       "      <th>comments</th>\n",
       "      <th>customerNumber</th>\n",
       "    </tr>\n",
       "  </thead>\n",
       "  <tbody>\n",
       "    <tr>\n",
       "      <th>0</th>\n",
       "      <td>10100</td>\n",
       "      <td>2003-01-06</td>\n",
       "      <td>2003-01-13</td>\n",
       "      <td>2003-01-10</td>\n",
       "      <td>Shipped</td>\n",
       "      <td>None</td>\n",
       "      <td>363</td>\n",
       "    </tr>\n",
       "  </tbody>\n",
       "</table>\n",
       "</div>"
      ],
      "text/plain": [
       "   orderNumber   orderDate requiredDate shippedDate   status comments  \\\n",
       "0        10100  2003-01-06   2003-01-13  2003-01-10  Shipped     None   \n",
       "\n",
       "   customerNumber  \n",
       "0             363  "
      ]
     },
     "execution_count": 8,
     "metadata": {},
     "output_type": "execute_result"
    }
   ],
   "source": [
    "df_orders[df_orders['orderNumber'] == 10100] #Se detectan ordenes duplicadas"
   ]
  },
  {
   "cell_type": "code",
   "execution_count": 9,
   "id": "684e29d1",
   "metadata": {},
   "outputs": [
    {
     "data": {
      "text/plain": [
       "(326, 7)"
      ]
     },
     "execution_count": 9,
     "metadata": {},
     "output_type": "execute_result"
    }
   ],
   "source": [
    "# Se eliminan los duplicados\n",
    "df_orders_unq = df_orders.drop_duplicates()\n",
    "df_orders_unq.shape"
   ]
  },
  {
   "cell_type": "code",
   "execution_count": 10,
   "id": "130f0b78",
   "metadata": {},
   "outputs": [
    {
     "data": {
      "text/html": [
       "<div>\n",
       "<style scoped>\n",
       "    .dataframe tbody tr th:only-of-type {\n",
       "        vertical-align: middle;\n",
       "    }\n",
       "\n",
       "    .dataframe tbody tr th {\n",
       "        vertical-align: top;\n",
       "    }\n",
       "\n",
       "    .dataframe thead th {\n",
       "        text-align: right;\n",
       "    }\n",
       "</style>\n",
       "<table border=\"1\" class=\"dataframe\">\n",
       "  <thead>\n",
       "    <tr style=\"text-align: right;\">\n",
       "      <th></th>\n",
       "      <th>orderNumber</th>\n",
       "      <th>orderDate</th>\n",
       "      <th>requiredDate</th>\n",
       "      <th>shippedDate</th>\n",
       "      <th>status</th>\n",
       "      <th>comments</th>\n",
       "      <th>customerNumber</th>\n",
       "    </tr>\n",
       "  </thead>\n",
       "  <tbody>\n",
       "    <tr>\n",
       "      <th>0</th>\n",
       "      <td>10100</td>\n",
       "      <td>2003-01-06</td>\n",
       "      <td>2003-01-13</td>\n",
       "      <td>2003-01-10</td>\n",
       "      <td>Shipped</td>\n",
       "      <td>None</td>\n",
       "      <td>363</td>\n",
       "    </tr>\n",
       "    <tr>\n",
       "      <th>1</th>\n",
       "      <td>10101</td>\n",
       "      <td>2003-01-09</td>\n",
       "      <td>2003-01-18</td>\n",
       "      <td>2003-01-11</td>\n",
       "      <td>Shipped</td>\n",
       "      <td>Check on availability.</td>\n",
       "      <td>128</td>\n",
       "    </tr>\n",
       "    <tr>\n",
       "      <th>2</th>\n",
       "      <td>10102</td>\n",
       "      <td>2003-01-10</td>\n",
       "      <td>2003-01-18</td>\n",
       "      <td>2003-01-14</td>\n",
       "      <td>Shipped</td>\n",
       "      <td>None</td>\n",
       "      <td>181</td>\n",
       "    </tr>\n",
       "  </tbody>\n",
       "</table>\n",
       "</div>"
      ],
      "text/plain": [
       "   orderNumber   orderDate requiredDate shippedDate   status  \\\n",
       "0        10100  2003-01-06   2003-01-13  2003-01-10  Shipped   \n",
       "1        10101  2003-01-09   2003-01-18  2003-01-11  Shipped   \n",
       "2        10102  2003-01-10   2003-01-18  2003-01-14  Shipped   \n",
       "\n",
       "                 comments  customerNumber  \n",
       "0                    None             363  \n",
       "1  Check on availability.             128  \n",
       "2                    None             181  "
      ]
     },
     "execution_count": 10,
     "metadata": {},
     "output_type": "execute_result"
    }
   ],
   "source": [
    "df_orders_unq.head(3) #revision del df generado con leer_tabla"
   ]
  },
  {
   "cell_type": "code",
   "execution_count": 11,
   "id": "a0abae9a",
   "metadata": {},
   "outputs": [
    {
     "data": {
      "text/html": [
       "<div>\n",
       "<style scoped>\n",
       "    .dataframe tbody tr th:only-of-type {\n",
       "        vertical-align: middle;\n",
       "    }\n",
       "\n",
       "    .dataframe tbody tr th {\n",
       "        vertical-align: top;\n",
       "    }\n",
       "\n",
       "    .dataframe thead th {\n",
       "        text-align: right;\n",
       "    }\n",
       "</style>\n",
       "<table border=\"1\" class=\"dataframe\">\n",
       "  <thead>\n",
       "    <tr style=\"text-align: right;\">\n",
       "      <th></th>\n",
       "      <th>orderNumber</th>\n",
       "      <th>productCode</th>\n",
       "      <th>quantityOrdered</th>\n",
       "      <th>priceEach</th>\n",
       "      <th>orderLineNumber</th>\n",
       "    </tr>\n",
       "  </thead>\n",
       "  <tbody>\n",
       "    <tr>\n",
       "      <th>0</th>\n",
       "      <td>10100</td>\n",
       "      <td>S18_1749</td>\n",
       "      <td>30</td>\n",
       "      <td>136.00</td>\n",
       "      <td>3</td>\n",
       "    </tr>\n",
       "    <tr>\n",
       "      <th>1</th>\n",
       "      <td>10100</td>\n",
       "      <td>S18_2248</td>\n",
       "      <td>50</td>\n",
       "      <td>55.09</td>\n",
       "      <td>2</td>\n",
       "    </tr>\n",
       "    <tr>\n",
       "      <th>2</th>\n",
       "      <td>10100</td>\n",
       "      <td>S18_4409</td>\n",
       "      <td>22</td>\n",
       "      <td>75.46</td>\n",
       "      <td>4</td>\n",
       "    </tr>\n",
       "  </tbody>\n",
       "</table>\n",
       "</div>"
      ],
      "text/plain": [
       "   orderNumber productCode  quantityOrdered  priceEach  orderLineNumber\n",
       "0        10100    S18_1749               30     136.00                3\n",
       "1        10100    S18_2248               50      55.09                2\n",
       "2        10100    S18_4409               22      75.46                4"
      ]
     },
     "execution_count": 11,
     "metadata": {},
     "output_type": "execute_result"
    }
   ],
   "source": [
    "df_orderdetails.head(3) #revision del df generado con leer_tabla"
   ]
  },
  {
   "cell_type": "code",
   "execution_count": 12,
   "id": "185c4388",
   "metadata": {},
   "outputs": [
    {
     "data": {
      "text/html": [
       "<div>\n",
       "<style scoped>\n",
       "    .dataframe tbody tr th:only-of-type {\n",
       "        vertical-align: middle;\n",
       "    }\n",
       "\n",
       "    .dataframe tbody tr th {\n",
       "        vertical-align: top;\n",
       "    }\n",
       "\n",
       "    .dataframe thead th {\n",
       "        text-align: right;\n",
       "    }\n",
       "</style>\n",
       "<table border=\"1\" class=\"dataframe\">\n",
       "  <thead>\n",
       "    <tr style=\"text-align: right;\">\n",
       "      <th></th>\n",
       "      <th>customerNumber</th>\n",
       "      <th>customerName</th>\n",
       "      <th>contactLastName</th>\n",
       "      <th>contactFirstName</th>\n",
       "      <th>phone</th>\n",
       "      <th>addressLine1</th>\n",
       "      <th>addressLine2</th>\n",
       "      <th>city</th>\n",
       "      <th>state</th>\n",
       "      <th>postalCode</th>\n",
       "      <th>country</th>\n",
       "      <th>salesRepEmployeeNumber</th>\n",
       "      <th>creditLimit</th>\n",
       "    </tr>\n",
       "  </thead>\n",
       "  <tbody>\n",
       "    <tr>\n",
       "      <th>0</th>\n",
       "      <td>103</td>\n",
       "      <td>Atelier graphique</td>\n",
       "      <td>Schmitt</td>\n",
       "      <td>Carine</td>\n",
       "      <td>40.32.2555</td>\n",
       "      <td>54, rue Royale</td>\n",
       "      <td>None</td>\n",
       "      <td>Nantes</td>\n",
       "      <td>None</td>\n",
       "      <td>44000</td>\n",
       "      <td>France</td>\n",
       "      <td>1370.0</td>\n",
       "      <td>21000.0</td>\n",
       "    </tr>\n",
       "    <tr>\n",
       "      <th>1</th>\n",
       "      <td>112</td>\n",
       "      <td>Signal Gift Stores</td>\n",
       "      <td>King</td>\n",
       "      <td>Jean</td>\n",
       "      <td>7025551838</td>\n",
       "      <td>8489 Strong St.</td>\n",
       "      <td>None</td>\n",
       "      <td>Las Vegas</td>\n",
       "      <td>NV</td>\n",
       "      <td>83030</td>\n",
       "      <td>USA</td>\n",
       "      <td>1166.0</td>\n",
       "      <td>71800.0</td>\n",
       "    </tr>\n",
       "    <tr>\n",
       "      <th>2</th>\n",
       "      <td>114</td>\n",
       "      <td>Australian Collectors, Co.</td>\n",
       "      <td>Ferguson</td>\n",
       "      <td>Peter</td>\n",
       "      <td>03 9520 4555</td>\n",
       "      <td>636 St Kilda Road</td>\n",
       "      <td>Level 3</td>\n",
       "      <td>Melbourne</td>\n",
       "      <td>Victoria</td>\n",
       "      <td>3004</td>\n",
       "      <td>Australia</td>\n",
       "      <td>1611.0</td>\n",
       "      <td>117300.0</td>\n",
       "    </tr>\n",
       "  </tbody>\n",
       "</table>\n",
       "</div>"
      ],
      "text/plain": [
       "   customerNumber                customerName contactLastName  \\\n",
       "0             103           Atelier graphique         Schmitt   \n",
       "1             112          Signal Gift Stores            King   \n",
       "2             114  Australian Collectors, Co.        Ferguson   \n",
       "\n",
       "  contactFirstName         phone       addressLine1 addressLine2       city  \\\n",
       "0          Carine     40.32.2555     54, rue Royale         None     Nantes   \n",
       "1             Jean    7025551838    8489 Strong St.         None  Las Vegas   \n",
       "2            Peter  03 9520 4555  636 St Kilda Road      Level 3  Melbourne   \n",
       "\n",
       "      state postalCode    country  salesRepEmployeeNumber  creditLimit  \n",
       "0      None      44000     France                  1370.0      21000.0  \n",
       "1        NV      83030        USA                  1166.0      71800.0  \n",
       "2  Victoria       3004  Australia                  1611.0     117300.0  "
      ]
     },
     "execution_count": 12,
     "metadata": {},
     "output_type": "execute_result"
    }
   ],
   "source": [
    "df_customers.head(3) #revision del df generado con leer_tabla"
   ]
  },
  {
   "cell_type": "code",
   "execution_count": 13,
   "id": "2f143b03",
   "metadata": {},
   "outputs": [
    {
     "data": {
      "text/html": [
       "<div>\n",
       "<style scoped>\n",
       "    .dataframe tbody tr th:only-of-type {\n",
       "        vertical-align: middle;\n",
       "    }\n",
       "\n",
       "    .dataframe tbody tr th {\n",
       "        vertical-align: top;\n",
       "    }\n",
       "\n",
       "    .dataframe thead th {\n",
       "        text-align: right;\n",
       "    }\n",
       "</style>\n",
       "<table border=\"1\" class=\"dataframe\">\n",
       "  <thead>\n",
       "    <tr style=\"text-align: right;\">\n",
       "      <th></th>\n",
       "      <th>customerNumber</th>\n",
       "      <th>customerName</th>\n",
       "      <th>contactLastName</th>\n",
       "      <th>contactFirstName</th>\n",
       "      <th>phone</th>\n",
       "      <th>addressLine1</th>\n",
       "      <th>addressLine2</th>\n",
       "      <th>city</th>\n",
       "      <th>state</th>\n",
       "      <th>postalCode</th>\n",
       "      <th>country</th>\n",
       "      <th>salesRepEmployeeNumber</th>\n",
       "      <th>creditLimit</th>\n",
       "    </tr>\n",
       "  </thead>\n",
       "  <tbody>\n",
       "    <tr>\n",
       "      <th>0</th>\n",
       "      <td>103</td>\n",
       "      <td>Atelier graphique</td>\n",
       "      <td>Schmitt</td>\n",
       "      <td>Carine</td>\n",
       "      <td>40.32.2555</td>\n",
       "      <td>54, rue Royale</td>\n",
       "      <td>None</td>\n",
       "      <td>Nantes</td>\n",
       "      <td>None</td>\n",
       "      <td>44000</td>\n",
       "      <td>France</td>\n",
       "      <td>1370.0</td>\n",
       "      <td>21000.0</td>\n",
       "    </tr>\n",
       "  </tbody>\n",
       "</table>\n",
       "</div>"
      ],
      "text/plain": [
       "   customerNumber       customerName contactLastName contactFirstName  \\\n",
       "0             103  Atelier graphique         Schmitt          Carine    \n",
       "\n",
       "        phone    addressLine1 addressLine2    city state postalCode country  \\\n",
       "0  40.32.2555  54, rue Royale         None  Nantes  None      44000  France   \n",
       "\n",
       "   salesRepEmployeeNumber  creditLimit  \n",
       "0                  1370.0      21000.0  "
      ]
     },
     "execution_count": 13,
     "metadata": {},
     "output_type": "execute_result"
    }
   ],
   "source": [
    "df_customers.customerNumber.value_counts()  #Se detectan ordenes duplicadas\n",
    "df_customers[df_customers['customerNumber'] == 103]"
   ]
  },
  {
   "cell_type": "code",
   "execution_count": 14,
   "id": "0f90e017",
   "metadata": {},
   "outputs": [
    {
     "data": {
      "text/plain": [
       "(122, 13)"
      ]
     },
     "execution_count": 14,
     "metadata": {},
     "output_type": "execute_result"
    }
   ],
   "source": [
    "# Se eliminan los duplicados\n",
    "\n",
    "df_customers.rename(columns={'salesRepEmployeeNumber': 'employeeNumber'}, inplace=True)\n",
    "df_customers_unq = df_customers.drop_duplicates()\n",
    "df_customers_unq.shape"
   ]
  },
  {
   "cell_type": "code",
   "execution_count": 15,
   "id": "c6b6f3ba",
   "metadata": {},
   "outputs": [
    {
     "data": {
      "text/html": [
       "<div>\n",
       "<style scoped>\n",
       "    .dataframe tbody tr th:only-of-type {\n",
       "        vertical-align: middle;\n",
       "    }\n",
       "\n",
       "    .dataframe tbody tr th {\n",
       "        vertical-align: top;\n",
       "    }\n",
       "\n",
       "    .dataframe thead th {\n",
       "        text-align: right;\n",
       "    }\n",
       "</style>\n",
       "<table border=\"1\" class=\"dataframe\">\n",
       "  <thead>\n",
       "    <tr style=\"text-align: right;\">\n",
       "      <th></th>\n",
       "      <th>productCode</th>\n",
       "      <th>productName</th>\n",
       "      <th>productLine</th>\n",
       "      <th>productScale</th>\n",
       "      <th>productVendor</th>\n",
       "      <th>productDescription</th>\n",
       "      <th>quantityInStock</th>\n",
       "      <th>buyPrice</th>\n",
       "      <th>MSRP</th>\n",
       "    </tr>\n",
       "  </thead>\n",
       "  <tbody>\n",
       "    <tr>\n",
       "      <th>0</th>\n",
       "      <td>S10_1678</td>\n",
       "      <td>1969 Harley Davidson Ultimate Chopper</td>\n",
       "      <td>Motorcycles</td>\n",
       "      <td>1:10</td>\n",
       "      <td>Min Lin Diecast</td>\n",
       "      <td>This replica features working kickstand, front...</td>\n",
       "      <td>7933</td>\n",
       "      <td>48.81</td>\n",
       "      <td>95.70</td>\n",
       "    </tr>\n",
       "    <tr>\n",
       "      <th>1</th>\n",
       "      <td>S10_1949</td>\n",
       "      <td>1952 Alpine Renault 1300</td>\n",
       "      <td>Classic Cars</td>\n",
       "      <td>1:10</td>\n",
       "      <td>Classic Metal Creations</td>\n",
       "      <td>Turnable front wheels; steering function; deta...</td>\n",
       "      <td>7305</td>\n",
       "      <td>98.58</td>\n",
       "      <td>214.30</td>\n",
       "    </tr>\n",
       "    <tr>\n",
       "      <th>2</th>\n",
       "      <td>S10_2016</td>\n",
       "      <td>1996 Moto Guzzi 1100i</td>\n",
       "      <td>Motorcycles</td>\n",
       "      <td>1:10</td>\n",
       "      <td>Highway 66 Mini Classics</td>\n",
       "      <td>Official Moto Guzzi logos and insignias, saddl...</td>\n",
       "      <td>6625</td>\n",
       "      <td>68.99</td>\n",
       "      <td>118.94</td>\n",
       "    </tr>\n",
       "  </tbody>\n",
       "</table>\n",
       "</div>"
      ],
      "text/plain": [
       "  productCode                            productName   productLine  \\\n",
       "0    S10_1678  1969 Harley Davidson Ultimate Chopper   Motorcycles   \n",
       "1    S10_1949               1952 Alpine Renault 1300  Classic Cars   \n",
       "2    S10_2016                  1996 Moto Guzzi 1100i   Motorcycles   \n",
       "\n",
       "  productScale             productVendor  \\\n",
       "0         1:10           Min Lin Diecast   \n",
       "1         1:10   Classic Metal Creations   \n",
       "2         1:10  Highway 66 Mini Classics   \n",
       "\n",
       "                                  productDescription  quantityInStock  \\\n",
       "0  This replica features working kickstand, front...             7933   \n",
       "1  Turnable front wheels; steering function; deta...             7305   \n",
       "2  Official Moto Guzzi logos and insignias, saddl...             6625   \n",
       "\n",
       "   buyPrice    MSRP  \n",
       "0     48.81   95.70  \n",
       "1     98.58  214.30  \n",
       "2     68.99  118.94  "
      ]
     },
     "execution_count": 15,
     "metadata": {},
     "output_type": "execute_result"
    }
   ],
   "source": [
    "df_products.head(3) #Revision del df desde leer_tabla"
   ]
  },
  {
   "cell_type": "code",
   "execution_count": 16,
   "id": "2dd6f814",
   "metadata": {},
   "outputs": [
    {
     "data": {
      "text/plain": [
       "(110, 9)"
      ]
     },
     "execution_count": 16,
     "metadata": {},
     "output_type": "execute_result"
    }
   ],
   "source": [
    "df_products_unq = df_products.drop_duplicates() # Se eliminan los duplicados\n",
    "df_products_unq.shape"
   ]
  },
  {
   "cell_type": "code",
   "execution_count": 17,
   "id": "d8ef1255",
   "metadata": {
    "scrolled": true
   },
   "outputs": [
    {
     "data": {
      "text/plain": [
       "(23, 8)"
      ]
     },
     "execution_count": 17,
     "metadata": {},
     "output_type": "execute_result"
    }
   ],
   "source": [
    "\n",
    "df_employees_unq = df_employees.drop_duplicates() # Se eliminan los duplicados\n",
    "df_employees_unq.shape"
   ]
  },
  {
   "cell_type": "code",
   "execution_count": 18,
   "id": "7198759d",
   "metadata": {},
   "outputs": [
    {
     "data": {
      "text/html": [
       "<div>\n",
       "<style scoped>\n",
       "    .dataframe tbody tr th:only-of-type {\n",
       "        vertical-align: middle;\n",
       "    }\n",
       "\n",
       "    .dataframe tbody tr th {\n",
       "        vertical-align: top;\n",
       "    }\n",
       "\n",
       "    .dataframe thead th {\n",
       "        text-align: right;\n",
       "    }\n",
       "</style>\n",
       "<table border=\"1\" class=\"dataframe\">\n",
       "  <thead>\n",
       "    <tr style=\"text-align: right;\">\n",
       "      <th></th>\n",
       "      <th>employeeNumber</th>\n",
       "      <th>lastName</th>\n",
       "      <th>firstName</th>\n",
       "      <th>extension</th>\n",
       "      <th>email</th>\n",
       "      <th>officeCode</th>\n",
       "      <th>reportsTo</th>\n",
       "      <th>jobTitle</th>\n",
       "    </tr>\n",
       "  </thead>\n",
       "  <tbody>\n",
       "    <tr>\n",
       "      <th>0</th>\n",
       "      <td>1002</td>\n",
       "      <td>Murphy</td>\n",
       "      <td>Diane</td>\n",
       "      <td>x5800</td>\n",
       "      <td>dmurphy@classicmodelcars.com</td>\n",
       "      <td>1</td>\n",
       "      <td>NaN</td>\n",
       "      <td>President</td>\n",
       "    </tr>\n",
       "    <tr>\n",
       "      <th>1</th>\n",
       "      <td>1056</td>\n",
       "      <td>Patterson</td>\n",
       "      <td>Mary</td>\n",
       "      <td>x4611</td>\n",
       "      <td>mpatterso@classicmodelcars.com</td>\n",
       "      <td>1</td>\n",
       "      <td>1002.0</td>\n",
       "      <td>VP Sales</td>\n",
       "    </tr>\n",
       "    <tr>\n",
       "      <th>2</th>\n",
       "      <td>1076</td>\n",
       "      <td>Firrelli</td>\n",
       "      <td>Jeff</td>\n",
       "      <td>x9273</td>\n",
       "      <td>jfirrelli@classicmodelcars.com</td>\n",
       "      <td>1</td>\n",
       "      <td>1002.0</td>\n",
       "      <td>VP Marketing</td>\n",
       "    </tr>\n",
       "  </tbody>\n",
       "</table>\n",
       "</div>"
      ],
      "text/plain": [
       "   employeeNumber   lastName firstName extension  \\\n",
       "0            1002     Murphy     Diane     x5800   \n",
       "1            1056  Patterson      Mary     x4611   \n",
       "2            1076   Firrelli      Jeff     x9273   \n",
       "\n",
       "                            email officeCode  reportsTo      jobTitle  \n",
       "0    dmurphy@classicmodelcars.com          1        NaN     President  \n",
       "1  mpatterso@classicmodelcars.com          1     1002.0      VP Sales  \n",
       "2  jfirrelli@classicmodelcars.com          1     1002.0  VP Marketing  "
      ]
     },
     "execution_count": 18,
     "metadata": {},
     "output_type": "execute_result"
    }
   ],
   "source": [
    "df_employees.head(3)"
   ]
  },
  {
   "cell_type": "markdown",
   "id": "fb9d5f01",
   "metadata": {},
   "source": [
    "## 2. \n",
    "Realiza el cruce entre los DataFrames, asegurándote de utilizar correctamente el\n",
    " parámetro validate para asegurar la integridad referencial.\n"
   ]
  },
  {
   "cell_type": "code",
   "execution_count": 19,
   "id": "34801d65",
   "metadata": {},
   "outputs": [
    {
     "name": "stdout",
     "output_type": "stream",
     "text": [
      "(122, 13)\n",
      "(350, 19)\n"
     ]
    }
   ],
   "source": [
    "print(df_customers_unq.shape)\n",
    "df_base = df_customers_unq.merge(df_orders_unq, on='customerNumber', how='left', validate='1:m') #Se usa le f merge para generar el df_base uniendo orders_unq con costumerNumber haciendo leftjoin y validando 1:m\n",
    "print(df_base.shape)"
   ]
  },
  {
   "cell_type": "code",
   "execution_count": 20,
   "id": "d44102d2",
   "metadata": {},
   "outputs": [
    {
     "name": "stdout",
     "output_type": "stream",
     "text": [
      "(3020, 23)\n"
     ]
    }
   ],
   "source": [
    "df_base = df_base.merge(df_orderdetails, on='orderNumber', how='left', validate='m:m') #Se usa la f merge sobre df_base uniendo el df anterior con order_Details y se revisa el shape\n",
    "print(df_base.shape)"
   ]
  },
  {
   "cell_type": "code",
   "execution_count": 21,
   "id": "26ecd074",
   "metadata": {},
   "outputs": [
    {
     "name": "stdout",
     "output_type": "stream",
     "text": [
      "(3020, 31)\n"
     ]
    }
   ],
   "source": [
    "df_base = df_base.merge(df_products_unq, on='productCode', how='left', validate='m:1') #Se usa la f merge sobre df_base uniendo el df anterior con df_products_unq y se revisa la integridad con shape\n",
    "print(df_base.shape)"
   ]
  },
  {
   "cell_type": "code",
   "execution_count": 22,
   "id": "3e67c5f0",
   "metadata": {},
   "outputs": [
    {
     "name": "stdout",
     "output_type": "stream",
     "text": [
      "(3020, 38)\n"
     ]
    }
   ],
   "source": [
    "df_base = df_base.merge(df_employees_unq, on='employeeNumber', how='left', validate='m:1') #Se usa la f merge sobre df_base uniendo el df anterior con df_employees_unq y se revisa la integridad con shape\n",
    "print(df_base.shape) "
   ]
  },
  {
   "cell_type": "code",
   "execution_count": 23,
   "id": "4a564925",
   "metadata": {},
   "outputs": [
    {
     "data": {
      "text/plain": [
       "Index(['customerNumber', 'customerName', 'contactLastName', 'contactFirstName',\n",
       "       'phone', 'addressLine1', 'addressLine2', 'city', 'state', 'postalCode',\n",
       "       'country', 'employeeNumber', 'creditLimit', 'orderNumber', 'orderDate',\n",
       "       'requiredDate', 'shippedDate', 'status', 'comments', 'productCode',\n",
       "       'quantityOrdered', 'priceEach', 'orderLineNumber', 'productName',\n",
       "       'productLine', 'productScale', 'productVendor', 'productDescription',\n",
       "       'quantityInStock', 'buyPrice', 'MSRP', 'lastName', 'firstName',\n",
       "       'extension', 'email', 'officeCode', 'reportsTo', 'jobTitle'],\n",
       "      dtype='object')"
      ]
     },
     "execution_count": 23,
     "metadata": {},
     "output_type": "execute_result"
    }
   ],
   "source": [
    "df_base.columns #Se revisan las columnas agregadas"
   ]
  },
  {
   "cell_type": "markdown",
   "id": "e9ddf663",
   "metadata": {},
   "source": [
    "# 3. \n",
    "Agrega las siguientes columnas, considerando su nombre y la fórmula asociada\n",
    " - venta: quantityOrdered*priceEach\n",
    " - costo: quantityOrdered*buyPrice\n",
    " - ganancia: considerando las columnas anteriores\n"
   ]
  },
  {
   "cell_type": "code",
   "execution_count": 24,
   "id": "9c97287a",
   "metadata": {},
   "outputs": [],
   "source": [
    "df_base['venta'] = df_base['quantityOrdered'] * df_base['priceEach']\n",
    "df_base['costo'] = df_base['quantityOrdered'] * df_base['buyPrice']\n",
    "df_base['ganancia'] = df_base['venta'] - df_base['costo'] #Se agregan las columnas venta costo y ganancia"
   ]
  },
  {
   "cell_type": "code",
   "execution_count": 25,
   "id": "380261a0",
   "metadata": {},
   "outputs": [
    {
     "data": {
      "text/plain": [
       "Index(['customerNumber', 'customerName', 'contactLastName', 'contactFirstName',\n",
       "       'phone', 'addressLine1', 'addressLine2', 'city', 'state', 'postalCode',\n",
       "       'country', 'employeeNumber', 'creditLimit', 'orderNumber', 'orderDate',\n",
       "       'requiredDate', 'shippedDate', 'status', 'comments', 'productCode',\n",
       "       'quantityOrdered', 'priceEach', 'orderLineNumber', 'productName',\n",
       "       'productLine', 'productScale', 'productVendor', 'productDescription',\n",
       "       'quantityInStock', 'buyPrice', 'MSRP', 'lastName', 'firstName',\n",
       "       'extension', 'email', 'officeCode', 'reportsTo', 'jobTitle', 'venta',\n",
       "       'costo', 'ganancia'],\n",
       "      dtype='object')"
      ]
     },
     "execution_count": 25,
     "metadata": {},
     "output_type": "execute_result"
    }
   ],
   "source": [
    "df_base.columns #se revisan las columnas nuevas"
   ]
  },
  {
   "cell_type": "markdown",
   "id": "0bfdd4e1",
   "metadata": {},
   "source": [
    "## 4. ¿Cuál fue el total de ventas por línea de productos? Incluye una fila de totales."
   ]
  },
  {
   "cell_type": "code",
   "execution_count": 26,
   "id": "cfb9675c",
   "metadata": {},
   "outputs": [
    {
     "name": "stdout",
     "output_type": "stream",
     "text": [
      "total de ventas por linea de productos:         productLine  total_ventas\n",
      "0      Classic Cars    3853922.49\n",
      "1       Motorcycles    1121426.12\n",
      "2            Planes     954637.54\n",
      "3             Ships     663998.34\n",
      "4            Trains     188532.92\n",
      "5  Trucks and Buses    1024113.57\n",
      "6      Vintage Cars    1797559.63\n"
     ]
    }
   ],
   "source": [
    "# Se agrupa por línea de productos y suma las ventas\n",
    "total_ventas_por_linea = df_base.groupby('productLine')['venta'].sum().reset_index(name='total_ventas')\n",
    "\n",
    "# Se agrega una columna de totales al DataFrame original\n",
    "df_base = pd.merge(df_base, total_ventas_por_linea, on='productLine', how='left')\n",
    "print(f\"total de ventas por linea de productos: {total_ventas_por_linea}\")"
   ]
  },
  {
   "cell_type": "code",
   "execution_count": 27,
   "id": "d3106e1d",
   "metadata": {},
   "outputs": [
    {
     "data": {
      "text/plain": [
       "Index(['customerNumber', 'customerName', 'contactLastName', 'contactFirstName',\n",
       "       'phone', 'addressLine1', 'addressLine2', 'city', 'state', 'postalCode',\n",
       "       'country', 'employeeNumber', 'creditLimit', 'orderNumber', 'orderDate',\n",
       "       'requiredDate', 'shippedDate', 'status', 'comments', 'productCode',\n",
       "       'quantityOrdered', 'priceEach', 'orderLineNumber', 'productName',\n",
       "       'productLine', 'productScale', 'productVendor', 'productDescription',\n",
       "       'quantityInStock', 'buyPrice', 'MSRP', 'lastName', 'firstName',\n",
       "       'extension', 'email', 'officeCode', 'reportsTo', 'jobTitle', 'venta',\n",
       "       'costo', 'ganancia', 'total_ventas'],\n",
       "      dtype='object')"
      ]
     },
     "execution_count": 27,
     "metadata": {},
     "output_type": "execute_result"
    }
   ],
   "source": [
    "df_base.columns #se revisan las columnas"
   ]
  },
  {
   "cell_type": "markdown",
   "id": "09f3c4c8",
   "metadata": {},
   "source": [
    "## 5. ¿Cuántos clientes distintos hicieron compras?"
   ]
  },
  {
   "cell_type": "code",
   "execution_count": 28,
   "id": "43a786e7",
   "metadata": {},
   "outputs": [
    {
     "name": "stdout",
     "output_type": "stream",
     "text": [
      "Número de clientes diferentes que hicieron compras: 98\n"
     ]
    }
   ],
   "source": [
    "#Se filtran aquellos Números de orden no nulos \n",
    "#y luego de cuentan aquellos clientes unicos asociados a los números de orden\n",
    "clientes_diferentes = df_base[~ df_base['orderNumber'].isnull()]['customerName'].nunique()\n",
    "print(f\"Número de clientes diferentes que hicieron compras: {clientes_diferentes}\")"
   ]
  },
  {
   "cell_type": "markdown",
   "id": "7cadf38d",
   "metadata": {},
   "source": [
    "## 6. ¿Existen clientes que aún no han hecho ninguna compra? ¿Cuántos son?"
   ]
  },
  {
   "cell_type": "code",
   "execution_count": 29,
   "id": "9f99ad09",
   "metadata": {},
   "outputs": [
    {
     "name": "stdout",
     "output_type": "stream",
     "text": [
      "Existen clientes que aún no han hecho ninguna compra.\n",
      "Número de clientes sin compras: 24\n"
     ]
    }
   ],
   "source": [
    "clientes_sin_compras = df_base[df_base['orderNumber'].isnull()]\n",
    "\n",
    "if clientes_sin_compras.empty:\n",
    "    print(\"Todos los clientes han realizado compras.\")\n",
    "else:\n",
    "    print(\"Existen clientes que aún no han hecho ninguna compra.\")\n",
    "\n",
    "# Para determinar cuántos son:\n",
    "cantidad_clientes_sin_compras = len(clientes_sin_compras)\n",
    "print(f\"Número de clientes sin compras: {cantidad_clientes_sin_compras}\")"
   ]
  },
  {
   "cell_type": "markdown",
   "id": "704554e2",
   "metadata": {},
   "source": [
    " ¿Cuáles fueron los 10 clientes que reportan mayores ventas brutas en dinero durante\n",
    " el año 2005? Genera un DataFrame y guárdalo en una tabla de Postgre llamada\n",
    "top_10_clientes_2005, en la que se especifique el nombre del cliente y su\n",
    " correspondiente venta, costo y ganancia."
   ]
  },
  {
   "cell_type": "code",
   "execution_count": 30,
   "id": "3b1946db",
   "metadata": {},
   "outputs": [],
   "source": [
    "#Llamamos las funciones presentes en funciones.py\n",
    "from funciones import filtro_fecha_orden"
   ]
  },
  {
   "cell_type": "code",
   "execution_count": 31,
   "id": "224f3c64",
   "metadata": {},
   "outputs": [],
   "source": [
    "#Filtramos el año 2005\n",
    "\n",
    "df2005=filtro_fecha_orden(df_base, '2005-01-01', '2005-12-31')\n"
   ]
  },
  {
   "cell_type": "code",
   "execution_count": 32,
   "id": "cd7d1fc6",
   "metadata": {},
   "outputs": [
    {
     "name": "stdout",
     "output_type": "stream",
     "text": [
      "2005-01-05 00:00:00\n",
      "2005-05-31 00:00:00\n"
     ]
    }
   ],
   "source": [
    "print(df2005['orderDate'].min()) #prueba para revisiar la aplicacion del filtro\n",
    "print(df2005['orderDate'].max())"
   ]
  },
  {
   "cell_type": "code",
   "execution_count": 33,
   "id": "3aa5a03b",
   "metadata": {},
   "outputs": [
    {
     "data": {
      "text/html": [
       "<div>\n",
       "<style scoped>\n",
       "    .dataframe tbody tr th:only-of-type {\n",
       "        vertical-align: middle;\n",
       "    }\n",
       "\n",
       "    .dataframe tbody tr th {\n",
       "        vertical-align: top;\n",
       "    }\n",
       "\n",
       "    .dataframe thead th {\n",
       "        text-align: right;\n",
       "    }\n",
       "</style>\n",
       "<table border=\"1\" class=\"dataframe\">\n",
       "  <thead>\n",
       "    <tr style=\"text-align: right;\">\n",
       "      <th></th>\n",
       "      <th>customerName</th>\n",
       "      <th>venta</th>\n",
       "    </tr>\n",
       "  </thead>\n",
       "  <tbody>\n",
       "    <tr>\n",
       "      <th>0</th>\n",
       "      <td>ANG Resellers</td>\n",
       "      <td>0.00</td>\n",
       "    </tr>\n",
       "    <tr>\n",
       "      <th>1</th>\n",
       "      <td>AV Stores, Co.</td>\n",
       "      <td>148410.09</td>\n",
       "    </tr>\n",
       "    <tr>\n",
       "      <th>2</th>\n",
       "      <td>Alpha Cognac</td>\n",
       "      <td>60483.36</td>\n",
       "    </tr>\n",
       "    <tr>\n",
       "      <th>3</th>\n",
       "      <td>American Souvenirs Inc</td>\n",
       "      <td>0.00</td>\n",
       "    </tr>\n",
       "    <tr>\n",
       "      <th>4</th>\n",
       "      <td>Amica Models &amp; Co.</td>\n",
       "      <td>82223.23</td>\n",
       "    </tr>\n",
       "    <tr>\n",
       "      <th>...</th>\n",
       "      <td>...</td>\n",
       "      <td>...</td>\n",
       "    </tr>\n",
       "    <tr>\n",
       "      <th>117</th>\n",
       "      <td>Vitachrome Inc.</td>\n",
       "      <td>72497.64</td>\n",
       "    </tr>\n",
       "    <tr>\n",
       "      <th>118</th>\n",
       "      <td>Volvo Model Replicas, Co</td>\n",
       "      <td>66694.82</td>\n",
       "    </tr>\n",
       "    <tr>\n",
       "      <th>119</th>\n",
       "      <td>Warburg Exchange</td>\n",
       "      <td>0.00</td>\n",
       "    </tr>\n",
       "    <tr>\n",
       "      <th>120</th>\n",
       "      <td>West Coast Collectables Co.</td>\n",
       "      <td>43748.72</td>\n",
       "    </tr>\n",
       "    <tr>\n",
       "      <th>121</th>\n",
       "      <td>giftsbymail.co.uk</td>\n",
       "      <td>71783.75</td>\n",
       "    </tr>\n",
       "  </tbody>\n",
       "</table>\n",
       "<p>122 rows × 2 columns</p>\n",
       "</div>"
      ],
      "text/plain": [
       "                    customerName      venta\n",
       "0                  ANG Resellers       0.00\n",
       "1                 AV Stores, Co.  148410.09\n",
       "2                   Alpha Cognac   60483.36\n",
       "3         American Souvenirs Inc       0.00\n",
       "4             Amica Models & Co.   82223.23\n",
       "..                           ...        ...\n",
       "117              Vitachrome Inc.   72497.64\n",
       "118     Volvo Model Replicas, Co   66694.82\n",
       "119             Warburg Exchange       0.00\n",
       "120  West Coast Collectables Co.   43748.72\n",
       "121            giftsbymail.co.uk   71783.75\n",
       "\n",
       "[122 rows x 2 columns]"
      ]
     },
     "execution_count": 33,
     "metadata": {},
     "output_type": "execute_result"
    }
   ],
   "source": [
    "#10 clientes que reportan mayores ventas brutas en dinero durante el año 2005\n",
    "\n",
    "#sumamos las ventas por cliente\n",
    "from funciones import suma_por_var\n",
    "\n",
    "ven_cli=suma_por_var(df_base, 'customerName', 'venta')\n",
    "ven_cli"
   ]
  },
  {
   "cell_type": "code",
   "execution_count": 34,
   "id": "95b673d1",
   "metadata": {
    "scrolled": false
   },
   "outputs": [
    {
     "data": {
      "text/html": [
       "<div>\n",
       "<style scoped>\n",
       "    .dataframe tbody tr th:only-of-type {\n",
       "        vertical-align: middle;\n",
       "    }\n",
       "\n",
       "    .dataframe tbody tr th {\n",
       "        vertical-align: top;\n",
       "    }\n",
       "\n",
       "    .dataframe thead th {\n",
       "        text-align: right;\n",
       "    }\n",
       "</style>\n",
       "<table border=\"1\" class=\"dataframe\">\n",
       "  <thead>\n",
       "    <tr style=\"text-align: right;\">\n",
       "      <th></th>\n",
       "      <th>customerName</th>\n",
       "      <th>venta</th>\n",
       "    </tr>\n",
       "  </thead>\n",
       "  <tbody>\n",
       "    <tr>\n",
       "      <th>42</th>\n",
       "      <td>Euro+ Shopping Channel</td>\n",
       "      <td>820689.54</td>\n",
       "    </tr>\n",
       "    <tr>\n",
       "      <th>76</th>\n",
       "      <td>Mini Gifts Distributors Ltd.</td>\n",
       "      <td>591827.34</td>\n",
       "    </tr>\n",
       "    <tr>\n",
       "      <th>11</th>\n",
       "      <td>Australian Collectors, Co.</td>\n",
       "      <td>180585.07</td>\n",
       "    </tr>\n",
       "    <tr>\n",
       "      <th>80</th>\n",
       "      <td>Muscle Machine Inc</td>\n",
       "      <td>177913.95</td>\n",
       "    </tr>\n",
       "    <tr>\n",
       "      <th>63</th>\n",
       "      <td>La Rochelle Gifts</td>\n",
       "      <td>158573.12</td>\n",
       "    </tr>\n",
       "    <tr>\n",
       "      <th>40</th>\n",
       "      <td>Dragon Souveniers, Ltd.</td>\n",
       "      <td>156251.03</td>\n",
       "    </tr>\n",
       "    <tr>\n",
       "      <th>39</th>\n",
       "      <td>Down Under Souveniers, Inc</td>\n",
       "      <td>154622.08</td>\n",
       "    </tr>\n",
       "    <tr>\n",
       "      <th>64</th>\n",
       "      <td>Land of Toys Inc.</td>\n",
       "      <td>149085.15</td>\n",
       "    </tr>\n",
       "    <tr>\n",
       "      <th>1</th>\n",
       "      <td>AV Stores, Co.</td>\n",
       "      <td>148410.09</td>\n",
       "    </tr>\n",
       "    <tr>\n",
       "      <th>110</th>\n",
       "      <td>The Sharp Gifts Warehouse</td>\n",
       "      <td>143536.27</td>\n",
       "    </tr>\n",
       "  </tbody>\n",
       "</table>\n",
       "</div>"
      ],
      "text/plain": [
       "                     customerName      venta\n",
       "42         Euro+ Shopping Channel  820689.54\n",
       "76   Mini Gifts Distributors Ltd.  591827.34\n",
       "11     Australian Collectors, Co.  180585.07\n",
       "80             Muscle Machine Inc  177913.95\n",
       "63              La Rochelle Gifts  158573.12\n",
       "40        Dragon Souveniers, Ltd.  156251.03\n",
       "39     Down Under Souveniers, Inc  154622.08\n",
       "64              Land of Toys Inc.  149085.15\n",
       "1                  AV Stores, Co.  148410.09\n",
       "110     The Sharp Gifts Warehouse  143536.27"
      ]
     },
     "execution_count": 34,
     "metadata": {},
     "output_type": "execute_result"
    }
   ],
   "source": [
    "ven_cli.sort_values(by='venta', ascending=False, inplace=True) # Ordena el df descendente\n",
    "top_10_customers = ven_cli.head(10) # Selecciona los 10 superiores\n",
    "top_10_customers"
   ]
  },
  {
   "cell_type": "markdown",
   "id": "16a6532f",
   "metadata": {},
   "source": [
    "¿Cuál fue el top 10 de artículos más vendidos durante el año 2005 (considerando\n",
    "cantidad neta)? Genera un DataFrame y guárdalo en una tabla de Postgre llamada\n",
    "top_10_productos_2005, en la que se especifique el nombre del producto y su\n",
    "correspondiente venta, costo y ganancia.\n"
   ]
  },
  {
   "cell_type": "code",
   "execution_count": 35,
   "id": "209e3360",
   "metadata": {},
   "outputs": [],
   "source": [
    "#Llamamos las funciones presentes en funciones.py\n",
    "from funciones import filtro_fecha_orden"
   ]
  },
  {
   "cell_type": "code",
   "execution_count": 36,
   "id": "1c34e688",
   "metadata": {},
   "outputs": [],
   "source": [
    "#Filtramos el año 2005\n",
    "\n",
    "df2005=filtro_fecha_orden(df_base, '2005-01-01', '2005-12-31')\n"
   ]
  },
  {
   "cell_type": "code",
   "execution_count": 37,
   "id": "d45c7b41",
   "metadata": {},
   "outputs": [
    {
     "name": "stdout",
     "output_type": "stream",
     "text": [
      "2005-01-05 00:00:00\n",
      "2005-05-31 00:00:00\n"
     ]
    }
   ],
   "source": [
    "#Revisamos el df filtrado\n",
    "print(df2005['orderDate'].min()) \n",
    "print(df2005['orderDate'].max())"
   ]
  },
  {
   "cell_type": "code",
   "execution_count": 39,
   "id": "0309ddd6",
   "metadata": {
    "scrolled": true
   },
   "outputs": [
    {
     "data": {
      "text/html": [
       "<div>\n",
       "<style scoped>\n",
       "    .dataframe tbody tr th:only-of-type {\n",
       "        vertical-align: middle;\n",
       "    }\n",
       "\n",
       "    .dataframe tbody tr th {\n",
       "        vertical-align: top;\n",
       "    }\n",
       "\n",
       "    .dataframe thead th {\n",
       "        text-align: right;\n",
       "    }\n",
       "</style>\n",
       "<table border=\"1\" class=\"dataframe\">\n",
       "  <thead>\n",
       "    <tr style=\"text-align: right;\">\n",
       "      <th></th>\n",
       "      <th>productName</th>\n",
       "      <th>quantityOrdered</th>\n",
       "    </tr>\n",
       "  </thead>\n",
       "  <tbody>\n",
       "    <tr>\n",
       "      <th>0</th>\n",
       "      <td>18th Century Vintage Horse Carriage</td>\n",
       "      <td>907</td>\n",
       "    </tr>\n",
       "    <tr>\n",
       "      <th>1</th>\n",
       "      <td>18th century schooner</td>\n",
       "      <td>1011</td>\n",
       "    </tr>\n",
       "    <tr>\n",
       "      <th>2</th>\n",
       "      <td>1900s Vintage Bi-Plane</td>\n",
       "      <td>940</td>\n",
       "    </tr>\n",
       "    <tr>\n",
       "      <th>3</th>\n",
       "      <td>1900s Vintage Tri-Plane</td>\n",
       "      <td>1009</td>\n",
       "    </tr>\n",
       "    <tr>\n",
       "      <th>4</th>\n",
       "      <td>1903 Ford Model A</td>\n",
       "      <td>883</td>\n",
       "    </tr>\n",
       "    <tr>\n",
       "      <th>...</th>\n",
       "      <td>...</td>\n",
       "      <td>...</td>\n",
       "    </tr>\n",
       "    <tr>\n",
       "      <th>104</th>\n",
       "      <td>The Mayflower</td>\n",
       "      <td>898</td>\n",
       "    </tr>\n",
       "    <tr>\n",
       "      <th>105</th>\n",
       "      <td>The Queen Mary</td>\n",
       "      <td>896</td>\n",
       "    </tr>\n",
       "    <tr>\n",
       "      <th>106</th>\n",
       "      <td>The Schooner Bluenose</td>\n",
       "      <td>934</td>\n",
       "    </tr>\n",
       "    <tr>\n",
       "      <th>107</th>\n",
       "      <td>The Titanic</td>\n",
       "      <td>952</td>\n",
       "    </tr>\n",
       "    <tr>\n",
       "      <th>108</th>\n",
       "      <td>The USS Constitution Ship</td>\n",
       "      <td>1020</td>\n",
       "    </tr>\n",
       "  </tbody>\n",
       "</table>\n",
       "<p>109 rows × 2 columns</p>\n",
       "</div>"
      ],
      "text/plain": [
       "                             productName  quantityOrdered\n",
       "0    18th Century Vintage Horse Carriage              907\n",
       "1                  18th century schooner             1011\n",
       "2                 1900s Vintage Bi-Plane              940\n",
       "3                1900s Vintage Tri-Plane             1009\n",
       "4                      1903 Ford Model A              883\n",
       "..                                   ...              ...\n",
       "104                        The Mayflower              898\n",
       "105                       The Queen Mary              896\n",
       "106                The Schooner Bluenose              934\n",
       "107                          The Titanic              952\n",
       "108            The USS Constitution Ship             1020\n",
       "\n",
       "[109 rows x 2 columns]"
      ]
     },
     "execution_count": 39,
     "metadata": {},
     "output_type": "execute_result"
    }
   ],
   "source": [
    "#10 de artículos más vendidos durante el año 2005\n",
    "\n",
    "#sumamos las cantidad neta por articulo\n",
    "from funciones import suma_por_var\n",
    "\n",
    "sum_art=suma_por_var(df_base, 'productName', 'quantityOrdered')\n",
    "sum_art"
   ]
  },
  {
   "cell_type": "markdown",
   "id": "cb0724e4",
   "metadata": {},
   "source": [
    "Una función que permita generar reportes dependiendo de parámetros de entrada\n",
    "como dataframe, filas, columnas, valores y medida (funcion_agrupadora). Utilizar\n",
    "fill_value = 0. Esta función debe retornar un DataFrame pivotado."
   ]
  },
  {
   "cell_type": "code",
   "execution_count": 40,
   "id": "cbac7341",
   "metadata": {
    "scrolled": false
   },
   "outputs": [
    {
     "data": {
      "text/html": [
       "<div>\n",
       "<style scoped>\n",
       "    .dataframe tbody tr th:only-of-type {\n",
       "        vertical-align: middle;\n",
       "    }\n",
       "\n",
       "    .dataframe tbody tr th {\n",
       "        vertical-align: top;\n",
       "    }\n",
       "\n",
       "    .dataframe thead th {\n",
       "        text-align: right;\n",
       "    }\n",
       "</style>\n",
       "<table border=\"1\" class=\"dataframe\">\n",
       "  <thead>\n",
       "    <tr style=\"text-align: right;\">\n",
       "      <th></th>\n",
       "      <th>productName</th>\n",
       "      <th>quantityOrdered</th>\n",
       "    </tr>\n",
       "  </thead>\n",
       "  <tbody>\n",
       "    <tr>\n",
       "      <th>76</th>\n",
       "      <td>1992 Ferrari 360 Spider red</td>\n",
       "      <td>1808</td>\n",
       "    </tr>\n",
       "    <tr>\n",
       "      <th>24</th>\n",
       "      <td>1937 Lincoln Berline</td>\n",
       "      <td>1111</td>\n",
       "    </tr>\n",
       "    <tr>\n",
       "      <th>95</th>\n",
       "      <td>American Airlines: MD-11S</td>\n",
       "      <td>1085</td>\n",
       "    </tr>\n",
       "    <tr>\n",
       "      <th>31</th>\n",
       "      <td>1941 Chevrolet Special Deluxe Cabriolet</td>\n",
       "      <td>1076</td>\n",
       "    </tr>\n",
       "    <tr>\n",
       "      <th>15</th>\n",
       "      <td>1930 Buick Marquette Phaeton</td>\n",
       "      <td>1074</td>\n",
       "    </tr>\n",
       "    <tr>\n",
       "      <th>30</th>\n",
       "      <td>1940s Ford truck</td>\n",
       "      <td>1061</td>\n",
       "    </tr>\n",
       "    <tr>\n",
       "      <th>61</th>\n",
       "      <td>1969 Harley Davidson Ultimate Chopper</td>\n",
       "      <td>1057</td>\n",
       "    </tr>\n",
       "    <tr>\n",
       "      <th>40</th>\n",
       "      <td>1957 Chevy Pickup</td>\n",
       "      <td>1056</td>\n",
       "    </tr>\n",
       "    <tr>\n",
       "      <th>51</th>\n",
       "      <td>1964 Mercedes Tour Bus</td>\n",
       "      <td>1053</td>\n",
       "    </tr>\n",
       "    <tr>\n",
       "      <th>39</th>\n",
       "      <td>1956 Porsche 356A Coupe</td>\n",
       "      <td>1052</td>\n",
       "    </tr>\n",
       "  </tbody>\n",
       "</table>\n",
       "</div>"
      ],
      "text/plain": [
       "                                productName  quantityOrdered\n",
       "76              1992 Ferrari 360 Spider red             1808\n",
       "24                     1937 Lincoln Berline             1111\n",
       "95                American Airlines: MD-11S             1085\n",
       "31  1941 Chevrolet Special Deluxe Cabriolet             1076\n",
       "15             1930 Buick Marquette Phaeton             1074\n",
       "30                         1940s Ford truck             1061\n",
       "61    1969 Harley Davidson Ultimate Chopper             1057\n",
       "40                        1957 Chevy Pickup             1056\n",
       "51                   1964 Mercedes Tour Bus             1053\n",
       "39                  1956 Porsche 356A Coupe             1052"
      ]
     },
     "execution_count": 40,
     "metadata": {},
     "output_type": "execute_result"
    }
   ],
   "source": [
    "sum_art.sort_values(by='quantityOrdered', ascending=False, inplace=True) # Ordena el df descendente\n",
    "top_10_articles = sum_art.head(10) # Selecciona los 10 superiores\n",
    "top_10_articles"
   ]
  },
  {
   "cell_type": "markdown",
   "id": "9b876666",
   "metadata": {},
   "source": [
    " Una función que permita escribir en la base de datos a través del guardado de un\n",
    " DataFrame dependiendo de parámetros de entrada como DataFrame, nombre de la\n",
    " tabla, engine y comportamiento en caso de que exista la tabla (if_exists)"
   ]
  },
  {
   "cell_type": "code",
   "execution_count": 44,
   "id": "c8fcc4b3",
   "metadata": {},
   "outputs": [
    {
     "name": "stdout",
     "output_type": "stream",
     "text": [
      "Tabla 'top_10_articles' creada y datos insertados.\n"
     ]
    }
   ],
   "source": [
    "from funciones import dataframeToPostgresql #Llama a la funcion\n",
    "\n",
    "# Datos de conexión\n",
    "conexion = {\n",
    "        \"usuario\": \"postgres\",\n",
    "        \"contraseña\": \"CLAVE\",\n",
    "        \"host\": \"127.0.0.1\",\n",
    "        \"puerto\": \"5432\",\n",
    "        \"base_de_datos\": \"classicmodels\"\n",
    "    }\n",
    "\n",
    "conn_string = f\"postgresql://{conexion['usuario']}:{conexion['contraseña']}@{conexion['host']}:{conexion['puerto']}/{conexion['base_de_datos']}\"\n",
    "\n",
    "\n",
    "# Nombre de la tabla y esquema\n",
    "table_name = \"top_10_articles\"\n",
    "esquema = \"public\"\n",
    "df = top_10_articles\n",
    "# Guardar el DataFrame en PostgreSQL\n",
    "dataframeToPostgresql(df, table_name, conn_string, esquema)"
   ]
  },
  {
   "cell_type": "code",
   "execution_count": null,
   "id": "c4ef99a8",
   "metadata": {},
   "outputs": [],
   "source": []
  }
 ],
 "metadata": {
  "kernelspec": {
   "display_name": "Python 3 (ipykernel)",
   "language": "python",
   "name": "python3"
  },
  "language_info": {
   "codemirror_mode": {
    "name": "ipython",
    "version": 3
   },
   "file_extension": ".py",
   "mimetype": "text/x-python",
   "name": "python",
   "nbconvert_exporter": "python",
   "pygments_lexer": "ipython3",
   "version": "3.10.2"
  }
 },
 "nbformat": 4,
 "nbformat_minor": 5
}

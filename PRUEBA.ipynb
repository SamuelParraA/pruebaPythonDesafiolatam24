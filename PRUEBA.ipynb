{
 "cells": [
  {
   "cell_type": "markdown",
   "id": "8936b387",
   "metadata": {},
   "source": [
    "# Prueba"
   ]
  },
  {
   "cell_type": "code",
   "execution_count": 144,
   "id": "2572697b",
   "metadata": {},
   "outputs": [],
   "source": [
    "import psycopg2 # Se conecta a postgre\n",
    "import pandas.io.sql as pdsql # transforma las salidas de postgre en formato pandas dataframe\n",
    "import warnings\n",
    "import pandas as pd\n",
    "warnings.filterwarnings(\"ignore\")"
   ]
  },
  {
   "cell_type": "code",
   "execution_count": 145,
   "id": "a3632a1d",
   "metadata": {},
   "outputs": [],
   "source": [
    "clave = 'XXXXX'"
   ]
  },
  {
   "cell_type": "code",
   "execution_count": 146,
   "id": "5fdf3a1e",
   "metadata": {},
   "outputs": [
    {
     "data": {
      "text/plain": [
       "<connection object at 0x000002C11F2C2130; dsn: 'user=postgres password=xxx dbname=classicmodels host=127.0.0.1 port=5433', closed: 0>"
      ]
     },
     "execution_count": 146,
     "metadata": {},
     "output_type": "execute_result"
    }
   ],
   "source": [
    "psycopg2.connect(user = 'postgres', password = clave, host = '127.0.0.1', port = 5433, database = 'classicmodels')"
   ]
  },
  {
   "cell_type": "code",
   "execution_count": 147,
   "id": "c9647d26",
   "metadata": {},
   "outputs": [],
   "source": [
    "def conexion_bbdd(user, passw, database):\n",
    "    connection = psycopg2.connect(user =user,\n",
    "                                 password = passw,\n",
    "                                 host = '127.0.0.1',\n",
    "                                 port = 5433,\n",
    "                                 database = database)\n",
    "    return connection"
   ]
  },
  {
   "cell_type": "code",
   "execution_count": 148,
   "id": "cd8acfbb",
   "metadata": {},
   "outputs": [
    {
     "data": {
      "text/plain": [
       "<connection object at 0x000002C11F2C1250; dsn: 'user=postgres password=xxx dbname=classicmodels host=127.0.0.1 port=5433', closed: 0>"
      ]
     },
     "execution_count": 148,
     "metadata": {},
     "output_type": "execute_result"
    }
   ],
   "source": [
    "conexion_bbdd(user = 'postgres', passw = clave, database = 'classicmodels')"
   ]
  },
  {
   "cell_type": "markdown",
   "id": "7809b448",
   "metadata": {},
   "source": [
    "pdsql.read_sql_query('SELECT * FROM public.categories', conexion_bbdd(user = 'postgres', passw = clave, database = 'northwind'))"
   ]
  },
  {
   "cell_type": "code",
   "execution_count": 149,
   "id": "fb32ce93",
   "metadata": {},
   "outputs": [],
   "source": [
    "def lectura_bbdd(clave, query):\n",
    "\n",
    "    df = pdsql.read_sql_query(query,\n",
    "                              conexion_bbdd(user = 'postgres', passw = clave, database = 'classicmodels '))\n",
    "\n",
    "    return df"
   ]
  },
  {
   "cell_type": "code",
   "execution_count": 150,
   "id": "27f535d0",
   "metadata": {},
   "outputs": [],
   "source": [
    "def leer_tabla(tabla, engine):\n",
    "\n",
    "    df = pdsql.read_sql_query(query,\n",
    "                              conexion_bbdd(user = 'postgres', passw = clave, database = 'classicmodels '))\n",
    "\n",
    "    return df"
   ]
  },
  {
   "cell_type": "markdown",
   "id": "880f6c30",
   "metadata": {},
   "source": [
    "## 1. Genera una función llamada leer_tabla(tabla, engine) y utilízala para leer tablas\n",
    "## completas desde la base de datos en dataframes independientes. Utilizando esta\n",
    "## función, importa las siguientes tablas:\n",
    "## - order\n",
    "## - orderdetails\n",
    "## - customers\n",
    "## - products\n",
    "## - employees"
   ]
  },
  {
   "cell_type": "code",
   "execution_count": 151,
   "id": "180e8467",
   "metadata": {},
   "outputs": [],
   "source": [
    "#def conexion_bbdd(user, passw, database):\n",
    "engine = psycopg2.connect(user ='postgres',\n",
    "                                 password = clave,\n",
    "                                 host = '127.0.0.1',\n",
    "                                 port = 5433,\n",
    "                                 database = 'classicmodels')"
   ]
  },
  {
   "cell_type": "code",
   "execution_count": 152,
   "id": "3694adc3",
   "metadata": {},
   "outputs": [],
   "source": [
    "def leer_tabla(tabla, engine):\n",
    "\n",
    "    df = pdsql.read_sql_query(f\"SELECT * FROM {tabla}\", engine)\n",
    "\n",
    "    return df"
   ]
  },
  {
   "cell_type": "code",
   "execution_count": 153,
   "id": "86a31911",
   "metadata": {},
   "outputs": [
    {
     "data": {
      "text/html": [
       "<div>\n",
       "<style scoped>\n",
       "    .dataframe tbody tr th:only-of-type {\n",
       "        vertical-align: middle;\n",
       "    }\n",
       "\n",
       "    .dataframe tbody tr th {\n",
       "        vertical-align: top;\n",
       "    }\n",
       "\n",
       "    .dataframe thead th {\n",
       "        text-align: right;\n",
       "    }\n",
       "</style>\n",
       "<table border=\"1\" class=\"dataframe\">\n",
       "  <thead>\n",
       "    <tr style=\"text-align: right;\">\n",
       "      <th></th>\n",
       "      <th>orderNumber</th>\n",
       "      <th>orderDate</th>\n",
       "      <th>requiredDate</th>\n",
       "      <th>shippedDate</th>\n",
       "      <th>status</th>\n",
       "      <th>comments</th>\n",
       "      <th>customerNumber</th>\n",
       "    </tr>\n",
       "  </thead>\n",
       "  <tbody>\n",
       "    <tr>\n",
       "      <th>0</th>\n",
       "      <td>10100</td>\n",
       "      <td>2003-01-06</td>\n",
       "      <td>2003-01-13</td>\n",
       "      <td>2003-01-10</td>\n",
       "      <td>Shipped</td>\n",
       "      <td>None</td>\n",
       "      <td>363</td>\n",
       "    </tr>\n",
       "    <tr>\n",
       "      <th>1</th>\n",
       "      <td>10101</td>\n",
       "      <td>2003-01-09</td>\n",
       "      <td>2003-01-18</td>\n",
       "      <td>2003-01-11</td>\n",
       "      <td>Shipped</td>\n",
       "      <td>Check on availability.</td>\n",
       "      <td>128</td>\n",
       "    </tr>\n",
       "    <tr>\n",
       "      <th>2</th>\n",
       "      <td>10102</td>\n",
       "      <td>2003-01-10</td>\n",
       "      <td>2003-01-18</td>\n",
       "      <td>2003-01-14</td>\n",
       "      <td>Shipped</td>\n",
       "      <td>None</td>\n",
       "      <td>181</td>\n",
       "    </tr>\n",
       "    <tr>\n",
       "      <th>3</th>\n",
       "      <td>10103</td>\n",
       "      <td>2003-01-29</td>\n",
       "      <td>2003-02-07</td>\n",
       "      <td>2003-02-02</td>\n",
       "      <td>Shipped</td>\n",
       "      <td>None</td>\n",
       "      <td>121</td>\n",
       "    </tr>\n",
       "    <tr>\n",
       "      <th>4</th>\n",
       "      <td>10104</td>\n",
       "      <td>2003-01-31</td>\n",
       "      <td>2003-02-09</td>\n",
       "      <td>2003-02-01</td>\n",
       "      <td>Shipped</td>\n",
       "      <td>None</td>\n",
       "      <td>141</td>\n",
       "    </tr>\n",
       "    <tr>\n",
       "      <th>...</th>\n",
       "      <td>...</td>\n",
       "      <td>...</td>\n",
       "      <td>...</td>\n",
       "      <td>...</td>\n",
       "      <td>...</td>\n",
       "      <td>...</td>\n",
       "      <td>...</td>\n",
       "    </tr>\n",
       "    <tr>\n",
       "      <th>647</th>\n",
       "      <td>10421</td>\n",
       "      <td>2005-05-29</td>\n",
       "      <td>2005-06-06</td>\n",
       "      <td>None</td>\n",
       "      <td>In Process</td>\n",
       "      <td>Custom shipping instructions were sent to ware...</td>\n",
       "      <td>124</td>\n",
       "    </tr>\n",
       "    <tr>\n",
       "      <th>648</th>\n",
       "      <td>10422</td>\n",
       "      <td>2005-05-30</td>\n",
       "      <td>2005-06-11</td>\n",
       "      <td>None</td>\n",
       "      <td>In Process</td>\n",
       "      <td>None</td>\n",
       "      <td>157</td>\n",
       "    </tr>\n",
       "    <tr>\n",
       "      <th>649</th>\n",
       "      <td>10423</td>\n",
       "      <td>2005-05-30</td>\n",
       "      <td>2005-06-05</td>\n",
       "      <td>None</td>\n",
       "      <td>In Process</td>\n",
       "      <td>None</td>\n",
       "      <td>314</td>\n",
       "    </tr>\n",
       "    <tr>\n",
       "      <th>650</th>\n",
       "      <td>10424</td>\n",
       "      <td>2005-05-31</td>\n",
       "      <td>2005-06-08</td>\n",
       "      <td>None</td>\n",
       "      <td>In Process</td>\n",
       "      <td>None</td>\n",
       "      <td>141</td>\n",
       "    </tr>\n",
       "    <tr>\n",
       "      <th>651</th>\n",
       "      <td>10425</td>\n",
       "      <td>2005-05-31</td>\n",
       "      <td>2005-06-07</td>\n",
       "      <td>None</td>\n",
       "      <td>In Process</td>\n",
       "      <td>None</td>\n",
       "      <td>119</td>\n",
       "    </tr>\n",
       "  </tbody>\n",
       "</table>\n",
       "<p>652 rows × 7 columns</p>\n",
       "</div>"
      ],
      "text/plain": [
       "     orderNumber   orderDate requiredDate shippedDate      status  \\\n",
       "0          10100  2003-01-06   2003-01-13  2003-01-10     Shipped   \n",
       "1          10101  2003-01-09   2003-01-18  2003-01-11     Shipped   \n",
       "2          10102  2003-01-10   2003-01-18  2003-01-14     Shipped   \n",
       "3          10103  2003-01-29   2003-02-07  2003-02-02     Shipped   \n",
       "4          10104  2003-01-31   2003-02-09  2003-02-01     Shipped   \n",
       "..           ...         ...          ...         ...         ...   \n",
       "647        10421  2005-05-29   2005-06-06        None  In Process   \n",
       "648        10422  2005-05-30   2005-06-11        None  In Process   \n",
       "649        10423  2005-05-30   2005-06-05        None  In Process   \n",
       "650        10424  2005-05-31   2005-06-08        None  In Process   \n",
       "651        10425  2005-05-31   2005-06-07        None  In Process   \n",
       "\n",
       "                                              comments  customerNumber  \n",
       "0                                                 None             363  \n",
       "1                               Check on availability.             128  \n",
       "2                                                 None             181  \n",
       "3                                                 None             121  \n",
       "4                                                 None             141  \n",
       "..                                                 ...             ...  \n",
       "647  Custom shipping instructions were sent to ware...             124  \n",
       "648                                               None             157  \n",
       "649                                               None             314  \n",
       "650                                               None             141  \n",
       "651                                               None             119  \n",
       "\n",
       "[652 rows x 7 columns]"
      ]
     },
     "execution_count": 153,
     "metadata": {},
     "output_type": "execute_result"
    }
   ],
   "source": [
    "leer_tabla('orders',engine)"
   ]
  },
  {
   "cell_type": "code",
   "execution_count": null,
   "id": "0dc0fd6f",
   "metadata": {},
   "outputs": [],
   "source": []
  },
  {
   "cell_type": "code",
   "execution_count": 154,
   "id": "219bb7fd",
   "metadata": {},
   "outputs": [],
   "source": [
    "df_orders = leer_tabla('orders',engine)\n",
    "df_orderdetails = leer_tabla('orderdetails',engine)\n",
    "df_customers = leer_tabla('customers',engine)\n",
    "df_products = leer_tabla('products',engine)\n",
    "df_employees = leer_tabla('employees',engine)\n"
   ]
  },
  {
   "cell_type": "code",
   "execution_count": 155,
   "id": "94e6a838",
   "metadata": {},
   "outputs": [
    {
     "data": {
      "text/html": [
       "<div>\n",
       "<style scoped>\n",
       "    .dataframe tbody tr th:only-of-type {\n",
       "        vertical-align: middle;\n",
       "    }\n",
       "\n",
       "    .dataframe tbody tr th {\n",
       "        vertical-align: top;\n",
       "    }\n",
       "\n",
       "    .dataframe thead th {\n",
       "        text-align: right;\n",
       "    }\n",
       "</style>\n",
       "<table border=\"1\" class=\"dataframe\">\n",
       "  <thead>\n",
       "    <tr style=\"text-align: right;\">\n",
       "      <th></th>\n",
       "      <th>orderNumber</th>\n",
       "      <th>orderDate</th>\n",
       "      <th>requiredDate</th>\n",
       "      <th>shippedDate</th>\n",
       "      <th>status</th>\n",
       "      <th>comments</th>\n",
       "      <th>customerNumber</th>\n",
       "    </tr>\n",
       "  </thead>\n",
       "  <tbody>\n",
       "    <tr>\n",
       "      <th>0</th>\n",
       "      <td>10100</td>\n",
       "      <td>2003-01-06</td>\n",
       "      <td>2003-01-13</td>\n",
       "      <td>2003-01-10</td>\n",
       "      <td>Shipped</td>\n",
       "      <td>None</td>\n",
       "      <td>363</td>\n",
       "    </tr>\n",
       "    <tr>\n",
       "      <th>1</th>\n",
       "      <td>10101</td>\n",
       "      <td>2003-01-09</td>\n",
       "      <td>2003-01-18</td>\n",
       "      <td>2003-01-11</td>\n",
       "      <td>Shipped</td>\n",
       "      <td>Check on availability.</td>\n",
       "      <td>128</td>\n",
       "    </tr>\n",
       "    <tr>\n",
       "      <th>2</th>\n",
       "      <td>10102</td>\n",
       "      <td>2003-01-10</td>\n",
       "      <td>2003-01-18</td>\n",
       "      <td>2003-01-14</td>\n",
       "      <td>Shipped</td>\n",
       "      <td>None</td>\n",
       "      <td>181</td>\n",
       "    </tr>\n",
       "    <tr>\n",
       "      <th>3</th>\n",
       "      <td>10103</td>\n",
       "      <td>2003-01-29</td>\n",
       "      <td>2003-02-07</td>\n",
       "      <td>2003-02-02</td>\n",
       "      <td>Shipped</td>\n",
       "      <td>None</td>\n",
       "      <td>121</td>\n",
       "    </tr>\n",
       "    <tr>\n",
       "      <th>4</th>\n",
       "      <td>10104</td>\n",
       "      <td>2003-01-31</td>\n",
       "      <td>2003-02-09</td>\n",
       "      <td>2003-02-01</td>\n",
       "      <td>Shipped</td>\n",
       "      <td>None</td>\n",
       "      <td>141</td>\n",
       "    </tr>\n",
       "  </tbody>\n",
       "</table>\n",
       "</div>"
      ],
      "text/plain": [
       "   orderNumber   orderDate requiredDate shippedDate   status  \\\n",
       "0        10100  2003-01-06   2003-01-13  2003-01-10  Shipped   \n",
       "1        10101  2003-01-09   2003-01-18  2003-01-11  Shipped   \n",
       "2        10102  2003-01-10   2003-01-18  2003-01-14  Shipped   \n",
       "3        10103  2003-01-29   2003-02-07  2003-02-02  Shipped   \n",
       "4        10104  2003-01-31   2003-02-09  2003-02-01  Shipped   \n",
       "\n",
       "                 comments  customerNumber  \n",
       "0                    None             363  \n",
       "1  Check on availability.             128  \n",
       "2                    None             181  \n",
       "3                    None             121  \n",
       "4                    None             141  "
      ]
     },
     "execution_count": 155,
     "metadata": {},
     "output_type": "execute_result"
    }
   ],
   "source": [
    "df_orders.head()"
   ]
  },
  {
   "cell_type": "code",
   "execution_count": 156,
   "id": "02d3251d",
   "metadata": {},
   "outputs": [
    {
     "data": {
      "text/html": [
       "<div>\n",
       "<style scoped>\n",
       "    .dataframe tbody tr th:only-of-type {\n",
       "        vertical-align: middle;\n",
       "    }\n",
       "\n",
       "    .dataframe tbody tr th {\n",
       "        vertical-align: top;\n",
       "    }\n",
       "\n",
       "    .dataframe thead th {\n",
       "        text-align: right;\n",
       "    }\n",
       "</style>\n",
       "<table border=\"1\" class=\"dataframe\">\n",
       "  <thead>\n",
       "    <tr style=\"text-align: right;\">\n",
       "      <th></th>\n",
       "      <th>orderNumber</th>\n",
       "      <th>orderDate</th>\n",
       "      <th>requiredDate</th>\n",
       "      <th>shippedDate</th>\n",
       "      <th>status</th>\n",
       "      <th>comments</th>\n",
       "      <th>customerNumber</th>\n",
       "    </tr>\n",
       "  </thead>\n",
       "  <tbody>\n",
       "    <tr>\n",
       "      <th>0</th>\n",
       "      <td>10100</td>\n",
       "      <td>2003-01-06</td>\n",
       "      <td>2003-01-13</td>\n",
       "      <td>2003-01-10</td>\n",
       "      <td>Shipped</td>\n",
       "      <td>None</td>\n",
       "      <td>363</td>\n",
       "    </tr>\n",
       "    <tr>\n",
       "      <th>328</th>\n",
       "      <td>10100</td>\n",
       "      <td>2003-01-06</td>\n",
       "      <td>2003-01-13</td>\n",
       "      <td>2003-01-10</td>\n",
       "      <td>Shipped</td>\n",
       "      <td>None</td>\n",
       "      <td>363</td>\n",
       "    </tr>\n",
       "  </tbody>\n",
       "</table>\n",
       "</div>"
      ],
      "text/plain": [
       "     orderNumber   orderDate requiredDate shippedDate   status comments  \\\n",
       "0          10100  2003-01-06   2003-01-13  2003-01-10  Shipped     None   \n",
       "328        10100  2003-01-06   2003-01-13  2003-01-10  Shipped     None   \n",
       "\n",
       "     customerNumber  \n",
       "0               363  \n",
       "328             363  "
      ]
     },
     "execution_count": 156,
     "metadata": {},
     "output_type": "execute_result"
    }
   ],
   "source": [
    "df_orders[df_orders['orderNumber'] == 10100]"
   ]
  },
  {
   "cell_type": "code",
   "execution_count": 157,
   "id": "6dd9307d",
   "metadata": {},
   "outputs": [
    {
     "data": {
      "text/plain": [
       "10100    2\n",
       "10304    2\n",
       "10322    2\n",
       "10321    2\n",
       "10320    2\n",
       "        ..\n",
       "10206    2\n",
       "10205    2\n",
       "10204    2\n",
       "10203    2\n",
       "10425    2\n",
       "Name: orderNumber, Length: 326, dtype: int64"
      ]
     },
     "execution_count": 157,
     "metadata": {},
     "output_type": "execute_result"
    }
   ],
   "source": [
    "df_orders.orderNumber.value_counts()"
   ]
  },
  {
   "cell_type": "code",
   "execution_count": 158,
   "id": "684e29d1",
   "metadata": {},
   "outputs": [
    {
     "data": {
      "text/plain": [
       "(326, 7)"
      ]
     },
     "execution_count": 158,
     "metadata": {},
     "output_type": "execute_result"
    }
   ],
   "source": [
    "# Count duplicates and drop them temporarily\n",
    "df_orders_unq = df_orders.drop_duplicates()\n",
    "df_orders_unq.shape"
   ]
  },
  {
   "cell_type": "code",
   "execution_count": 159,
   "id": "130f0b78",
   "metadata": {},
   "outputs": [
    {
     "data": {
      "text/html": [
       "<div>\n",
       "<style scoped>\n",
       "    .dataframe tbody tr th:only-of-type {\n",
       "        vertical-align: middle;\n",
       "    }\n",
       "\n",
       "    .dataframe tbody tr th {\n",
       "        vertical-align: top;\n",
       "    }\n",
       "\n",
       "    .dataframe thead th {\n",
       "        text-align: right;\n",
       "    }\n",
       "</style>\n",
       "<table border=\"1\" class=\"dataframe\">\n",
       "  <thead>\n",
       "    <tr style=\"text-align: right;\">\n",
       "      <th></th>\n",
       "      <th>orderNumber</th>\n",
       "      <th>orderDate</th>\n",
       "      <th>requiredDate</th>\n",
       "      <th>shippedDate</th>\n",
       "      <th>status</th>\n",
       "      <th>comments</th>\n",
       "      <th>customerNumber</th>\n",
       "    </tr>\n",
       "  </thead>\n",
       "  <tbody>\n",
       "    <tr>\n",
       "      <th>0</th>\n",
       "      <td>10100</td>\n",
       "      <td>2003-01-06</td>\n",
       "      <td>2003-01-13</td>\n",
       "      <td>2003-01-10</td>\n",
       "      <td>Shipped</td>\n",
       "      <td>None</td>\n",
       "      <td>363</td>\n",
       "    </tr>\n",
       "    <tr>\n",
       "      <th>1</th>\n",
       "      <td>10101</td>\n",
       "      <td>2003-01-09</td>\n",
       "      <td>2003-01-18</td>\n",
       "      <td>2003-01-11</td>\n",
       "      <td>Shipped</td>\n",
       "      <td>Check on availability.</td>\n",
       "      <td>128</td>\n",
       "    </tr>\n",
       "    <tr>\n",
       "      <th>2</th>\n",
       "      <td>10102</td>\n",
       "      <td>2003-01-10</td>\n",
       "      <td>2003-01-18</td>\n",
       "      <td>2003-01-14</td>\n",
       "      <td>Shipped</td>\n",
       "      <td>None</td>\n",
       "      <td>181</td>\n",
       "    </tr>\n",
       "  </tbody>\n",
       "</table>\n",
       "</div>"
      ],
      "text/plain": [
       "   orderNumber   orderDate requiredDate shippedDate   status  \\\n",
       "0        10100  2003-01-06   2003-01-13  2003-01-10  Shipped   \n",
       "1        10101  2003-01-09   2003-01-18  2003-01-11  Shipped   \n",
       "2        10102  2003-01-10   2003-01-18  2003-01-14  Shipped   \n",
       "\n",
       "                 comments  customerNumber  \n",
       "0                    None             363  \n",
       "1  Check on availability.             128  \n",
       "2                    None             181  "
      ]
     },
     "execution_count": 159,
     "metadata": {},
     "output_type": "execute_result"
    }
   ],
   "source": [
    "df_orders_unq.head(3)"
   ]
  },
  {
   "cell_type": "code",
   "execution_count": 160,
   "id": "a0abae9a",
   "metadata": {},
   "outputs": [
    {
     "data": {
      "text/html": [
       "<div>\n",
       "<style scoped>\n",
       "    .dataframe tbody tr th:only-of-type {\n",
       "        vertical-align: middle;\n",
       "    }\n",
       "\n",
       "    .dataframe tbody tr th {\n",
       "        vertical-align: top;\n",
       "    }\n",
       "\n",
       "    .dataframe thead th {\n",
       "        text-align: right;\n",
       "    }\n",
       "</style>\n",
       "<table border=\"1\" class=\"dataframe\">\n",
       "  <thead>\n",
       "    <tr style=\"text-align: right;\">\n",
       "      <th></th>\n",
       "      <th>orderNumber</th>\n",
       "      <th>productCode</th>\n",
       "      <th>quantityOrdered</th>\n",
       "      <th>priceEach</th>\n",
       "      <th>orderLineNumber</th>\n",
       "    </tr>\n",
       "  </thead>\n",
       "  <tbody>\n",
       "    <tr>\n",
       "      <th>0</th>\n",
       "      <td>10100</td>\n",
       "      <td>S18_1749</td>\n",
       "      <td>30</td>\n",
       "      <td>136.00</td>\n",
       "      <td>3</td>\n",
       "    </tr>\n",
       "    <tr>\n",
       "      <th>1</th>\n",
       "      <td>10100</td>\n",
       "      <td>S18_2248</td>\n",
       "      <td>50</td>\n",
       "      <td>55.09</td>\n",
       "      <td>2</td>\n",
       "    </tr>\n",
       "    <tr>\n",
       "      <th>2</th>\n",
       "      <td>10100</td>\n",
       "      <td>S18_4409</td>\n",
       "      <td>22</td>\n",
       "      <td>75.46</td>\n",
       "      <td>4</td>\n",
       "    </tr>\n",
       "    <tr>\n",
       "      <th>3</th>\n",
       "      <td>10100</td>\n",
       "      <td>S24_3969</td>\n",
       "      <td>49</td>\n",
       "      <td>35.29</td>\n",
       "      <td>1</td>\n",
       "    </tr>\n",
       "    <tr>\n",
       "      <th>4</th>\n",
       "      <td>10101</td>\n",
       "      <td>S18_2325</td>\n",
       "      <td>25</td>\n",
       "      <td>108.06</td>\n",
       "      <td>4</td>\n",
       "    </tr>\n",
       "  </tbody>\n",
       "</table>\n",
       "</div>"
      ],
      "text/plain": [
       "   orderNumber productCode  quantityOrdered  priceEach  orderLineNumber\n",
       "0        10100    S18_1749               30     136.00                3\n",
       "1        10100    S18_2248               50      55.09                2\n",
       "2        10100    S18_4409               22      75.46                4\n",
       "3        10100    S24_3969               49      35.29                1\n",
       "4        10101    S18_2325               25     108.06                4"
      ]
     },
     "execution_count": 160,
     "metadata": {},
     "output_type": "execute_result"
    }
   ],
   "source": [
    "df_orderdetails.head()"
   ]
  },
  {
   "cell_type": "code",
   "execution_count": 161,
   "id": "185c4388",
   "metadata": {},
   "outputs": [
    {
     "data": {
      "text/html": [
       "<div>\n",
       "<style scoped>\n",
       "    .dataframe tbody tr th:only-of-type {\n",
       "        vertical-align: middle;\n",
       "    }\n",
       "\n",
       "    .dataframe tbody tr th {\n",
       "        vertical-align: top;\n",
       "    }\n",
       "\n",
       "    .dataframe thead th {\n",
       "        text-align: right;\n",
       "    }\n",
       "</style>\n",
       "<table border=\"1\" class=\"dataframe\">\n",
       "  <thead>\n",
       "    <tr style=\"text-align: right;\">\n",
       "      <th></th>\n",
       "      <th>customerNumber</th>\n",
       "      <th>customerName</th>\n",
       "      <th>contactLastName</th>\n",
       "      <th>contactFirstName</th>\n",
       "      <th>phone</th>\n",
       "      <th>addressLine1</th>\n",
       "      <th>addressLine2</th>\n",
       "      <th>city</th>\n",
       "      <th>state</th>\n",
       "      <th>postalCode</th>\n",
       "      <th>country</th>\n",
       "      <th>salesRepEmployeeNumber</th>\n",
       "      <th>creditLimit</th>\n",
       "    </tr>\n",
       "  </thead>\n",
       "  <tbody>\n",
       "    <tr>\n",
       "      <th>0</th>\n",
       "      <td>103</td>\n",
       "      <td>Atelier graphique</td>\n",
       "      <td>Schmitt</td>\n",
       "      <td>Carine</td>\n",
       "      <td>40.32.2555</td>\n",
       "      <td>54, rue Royale</td>\n",
       "      <td>None</td>\n",
       "      <td>Nantes</td>\n",
       "      <td>None</td>\n",
       "      <td>44000</td>\n",
       "      <td>France</td>\n",
       "      <td>1370.0</td>\n",
       "      <td>21000.0</td>\n",
       "    </tr>\n",
       "    <tr>\n",
       "      <th>1</th>\n",
       "      <td>112</td>\n",
       "      <td>Signal Gift Stores</td>\n",
       "      <td>King</td>\n",
       "      <td>Jean</td>\n",
       "      <td>7025551838</td>\n",
       "      <td>8489 Strong St.</td>\n",
       "      <td>None</td>\n",
       "      <td>Las Vegas</td>\n",
       "      <td>NV</td>\n",
       "      <td>83030</td>\n",
       "      <td>USA</td>\n",
       "      <td>1166.0</td>\n",
       "      <td>71800.0</td>\n",
       "    </tr>\n",
       "    <tr>\n",
       "      <th>2</th>\n",
       "      <td>114</td>\n",
       "      <td>Australian Collectors, Co.</td>\n",
       "      <td>Ferguson</td>\n",
       "      <td>Peter</td>\n",
       "      <td>03 9520 4555</td>\n",
       "      <td>636 St Kilda Road</td>\n",
       "      <td>Level 3</td>\n",
       "      <td>Melbourne</td>\n",
       "      <td>Victoria</td>\n",
       "      <td>3004</td>\n",
       "      <td>Australia</td>\n",
       "      <td>1611.0</td>\n",
       "      <td>117300.0</td>\n",
       "    </tr>\n",
       "  </tbody>\n",
       "</table>\n",
       "</div>"
      ],
      "text/plain": [
       "   customerNumber                customerName contactLastName  \\\n",
       "0             103           Atelier graphique         Schmitt   \n",
       "1             112          Signal Gift Stores            King   \n",
       "2             114  Australian Collectors, Co.        Ferguson   \n",
       "\n",
       "  contactFirstName         phone       addressLine1 addressLine2       city  \\\n",
       "0          Carine     40.32.2555     54, rue Royale         None     Nantes   \n",
       "1             Jean    7025551838    8489 Strong St.         None  Las Vegas   \n",
       "2            Peter  03 9520 4555  636 St Kilda Road      Level 3  Melbourne   \n",
       "\n",
       "      state postalCode    country  salesRepEmployeeNumber  creditLimit  \n",
       "0      None      44000     France                  1370.0      21000.0  \n",
       "1        NV      83030        USA                  1166.0      71800.0  \n",
       "2  Victoria       3004  Australia                  1611.0     117300.0  "
      ]
     },
     "execution_count": 161,
     "metadata": {},
     "output_type": "execute_result"
    }
   ],
   "source": [
    "df_customers.head(3)"
   ]
  },
  {
   "cell_type": "code",
   "execution_count": 162,
   "id": "2f143b03",
   "metadata": {},
   "outputs": [
    {
     "data": {
      "text/html": [
       "<div>\n",
       "<style scoped>\n",
       "    .dataframe tbody tr th:only-of-type {\n",
       "        vertical-align: middle;\n",
       "    }\n",
       "\n",
       "    .dataframe tbody tr th {\n",
       "        vertical-align: top;\n",
       "    }\n",
       "\n",
       "    .dataframe thead th {\n",
       "        text-align: right;\n",
       "    }\n",
       "</style>\n",
       "<table border=\"1\" class=\"dataframe\">\n",
       "  <thead>\n",
       "    <tr style=\"text-align: right;\">\n",
       "      <th></th>\n",
       "      <th>customerNumber</th>\n",
       "      <th>customerName</th>\n",
       "      <th>contactLastName</th>\n",
       "      <th>contactFirstName</th>\n",
       "      <th>phone</th>\n",
       "      <th>addressLine1</th>\n",
       "      <th>addressLine2</th>\n",
       "      <th>city</th>\n",
       "      <th>state</th>\n",
       "      <th>postalCode</th>\n",
       "      <th>country</th>\n",
       "      <th>salesRepEmployeeNumber</th>\n",
       "      <th>creditLimit</th>\n",
       "    </tr>\n",
       "  </thead>\n",
       "  <tbody>\n",
       "    <tr>\n",
       "      <th>0</th>\n",
       "      <td>103</td>\n",
       "      <td>Atelier graphique</td>\n",
       "      <td>Schmitt</td>\n",
       "      <td>Carine</td>\n",
       "      <td>40.32.2555</td>\n",
       "      <td>54, rue Royale</td>\n",
       "      <td>None</td>\n",
       "      <td>Nantes</td>\n",
       "      <td>None</td>\n",
       "      <td>44000</td>\n",
       "      <td>France</td>\n",
       "      <td>1370.0</td>\n",
       "      <td>21000.0</td>\n",
       "    </tr>\n",
       "    <tr>\n",
       "      <th>122</th>\n",
       "      <td>103</td>\n",
       "      <td>Atelier graphique</td>\n",
       "      <td>Schmitt</td>\n",
       "      <td>Carine</td>\n",
       "      <td>40.32.2555</td>\n",
       "      <td>54, rue Royale</td>\n",
       "      <td>None</td>\n",
       "      <td>Nantes</td>\n",
       "      <td>None</td>\n",
       "      <td>44000</td>\n",
       "      <td>France</td>\n",
       "      <td>1370.0</td>\n",
       "      <td>21000.0</td>\n",
       "    </tr>\n",
       "  </tbody>\n",
       "</table>\n",
       "</div>"
      ],
      "text/plain": [
       "     customerNumber       customerName contactLastName contactFirstName  \\\n",
       "0               103  Atelier graphique         Schmitt          Carine    \n",
       "122             103  Atelier graphique         Schmitt          Carine    \n",
       "\n",
       "          phone    addressLine1 addressLine2    city state postalCode country  \\\n",
       "0    40.32.2555  54, rue Royale         None  Nantes  None      44000  France   \n",
       "122  40.32.2555  54, rue Royale         None  Nantes  None      44000  France   \n",
       "\n",
       "     salesRepEmployeeNumber  creditLimit  \n",
       "0                    1370.0      21000.0  \n",
       "122                  1370.0      21000.0  "
      ]
     },
     "execution_count": 162,
     "metadata": {},
     "output_type": "execute_result"
    }
   ],
   "source": [
    "df_customers.customerNumber.value_counts()\n",
    "df_customers[df_customers['customerNumber'] == 103]"
   ]
  },
  {
   "cell_type": "code",
   "execution_count": 163,
   "id": "0f90e017",
   "metadata": {},
   "outputs": [
    {
     "data": {
      "text/plain": [
       "(122, 13)"
      ]
     },
     "execution_count": 163,
     "metadata": {},
     "output_type": "execute_result"
    }
   ],
   "source": [
    "# Count duplicates and drop them temporarily\n",
    "\n",
    "df_customers.rename(columns={'salesRepEmployeeNumber': 'employeeNumber'}, inplace=True)\n",
    "df_customers_unq = df_customers.drop_duplicates()\n",
    "df_customers_unq.shape"
   ]
  },
  {
   "cell_type": "code",
   "execution_count": 164,
   "id": "c6b6f3ba",
   "metadata": {},
   "outputs": [
    {
     "data": {
      "text/html": [
       "<div>\n",
       "<style scoped>\n",
       "    .dataframe tbody tr th:only-of-type {\n",
       "        vertical-align: middle;\n",
       "    }\n",
       "\n",
       "    .dataframe tbody tr th {\n",
       "        vertical-align: top;\n",
       "    }\n",
       "\n",
       "    .dataframe thead th {\n",
       "        text-align: right;\n",
       "    }\n",
       "</style>\n",
       "<table border=\"1\" class=\"dataframe\">\n",
       "  <thead>\n",
       "    <tr style=\"text-align: right;\">\n",
       "      <th></th>\n",
       "      <th>productCode</th>\n",
       "      <th>productName</th>\n",
       "      <th>productLine</th>\n",
       "      <th>productScale</th>\n",
       "      <th>productVendor</th>\n",
       "      <th>productDescription</th>\n",
       "      <th>quantityInStock</th>\n",
       "      <th>buyPrice</th>\n",
       "      <th>MSRP</th>\n",
       "    </tr>\n",
       "  </thead>\n",
       "  <tbody>\n",
       "    <tr>\n",
       "      <th>0</th>\n",
       "      <td>S10_1678</td>\n",
       "      <td>1969 Harley Davidson Ultimate Chopper</td>\n",
       "      <td>Motorcycles</td>\n",
       "      <td>1:10</td>\n",
       "      <td>Min Lin Diecast</td>\n",
       "      <td>This replica features working kickstand, front...</td>\n",
       "      <td>7933</td>\n",
       "      <td>48.81</td>\n",
       "      <td>95.70</td>\n",
       "    </tr>\n",
       "    <tr>\n",
       "      <th>1</th>\n",
       "      <td>S10_1949</td>\n",
       "      <td>1952 Alpine Renault 1300</td>\n",
       "      <td>Classic Cars</td>\n",
       "      <td>1:10</td>\n",
       "      <td>Classic Metal Creations</td>\n",
       "      <td>Turnable front wheels; steering function; deta...</td>\n",
       "      <td>7305</td>\n",
       "      <td>98.58</td>\n",
       "      <td>214.30</td>\n",
       "    </tr>\n",
       "    <tr>\n",
       "      <th>2</th>\n",
       "      <td>S10_2016</td>\n",
       "      <td>1996 Moto Guzzi 1100i</td>\n",
       "      <td>Motorcycles</td>\n",
       "      <td>1:10</td>\n",
       "      <td>Highway 66 Mini Classics</td>\n",
       "      <td>Official Moto Guzzi logos and insignias, saddl...</td>\n",
       "      <td>6625</td>\n",
       "      <td>68.99</td>\n",
       "      <td>118.94</td>\n",
       "    </tr>\n",
       "  </tbody>\n",
       "</table>\n",
       "</div>"
      ],
      "text/plain": [
       "  productCode                            productName   productLine  \\\n",
       "0    S10_1678  1969 Harley Davidson Ultimate Chopper   Motorcycles   \n",
       "1    S10_1949               1952 Alpine Renault 1300  Classic Cars   \n",
       "2    S10_2016                  1996 Moto Guzzi 1100i   Motorcycles   \n",
       "\n",
       "  productScale             productVendor  \\\n",
       "0         1:10           Min Lin Diecast   \n",
       "1         1:10   Classic Metal Creations   \n",
       "2         1:10  Highway 66 Mini Classics   \n",
       "\n",
       "                                  productDescription  quantityInStock  \\\n",
       "0  This replica features working kickstand, front...             7933   \n",
       "1  Turnable front wheels; steering function; deta...             7305   \n",
       "2  Official Moto Guzzi logos and insignias, saddl...             6625   \n",
       "\n",
       "   buyPrice    MSRP  \n",
       "0     48.81   95.70  \n",
       "1     98.58  214.30  \n",
       "2     68.99  118.94  "
      ]
     },
     "execution_count": 164,
     "metadata": {},
     "output_type": "execute_result"
    }
   ],
   "source": [
    "df_products.head(3)"
   ]
  },
  {
   "cell_type": "code",
   "execution_count": 172,
   "id": "2dd6f814",
   "metadata": {},
   "outputs": [
    {
     "data": {
      "text/plain": [
       "(110, 9)"
      ]
     },
     "execution_count": 172,
     "metadata": {},
     "output_type": "execute_result"
    }
   ],
   "source": [
    "df_products_unq = df_products.drop_duplicates()\n",
    "df_products_unq.shape"
   ]
  },
  {
   "cell_type": "code",
   "execution_count": 178,
   "id": "d8ef1255",
   "metadata": {
    "scrolled": true
   },
   "outputs": [
    {
     "data": {
      "text/plain": [
       "(23, 8)"
      ]
     },
     "execution_count": 178,
     "metadata": {},
     "output_type": "execute_result"
    }
   ],
   "source": [
    "df_employees.head(3)\n",
    "df_employees_unq = df_employees.drop_duplicates()\n",
    "df_employees_unq.shape"
   ]
  },
  {
   "cell_type": "markdown",
   "id": "fb9d5f01",
   "metadata": {},
   "source": [
    "## 2. Realiza el cruce entre los DataFrames, asegurándote de utilizar correctamente el\n",
    "## parámetro validate para asegurar la integridad referencial.\n"
   ]
  },
  {
   "cell_type": "code",
   "execution_count": 166,
   "id": "d44102d2",
   "metadata": {},
   "outputs": [
    {
     "name": "stdout",
     "output_type": "stream",
     "text": [
      "(5992, 11)\n"
     ]
    }
   ],
   "source": [
    "df_base = df_orders_unq.merge(df_orderdetails, on='orderNumber', how='left', validate='1:m') \n",
    "print(df_base.shape)"
   ]
  },
  {
   "cell_type": "code",
   "execution_count": 174,
   "id": "26ecd074",
   "metadata": {},
   "outputs": [
    {
     "name": "stdout",
     "output_type": "stream",
     "text": [
      "(5992, 43)\n"
     ]
    }
   ],
   "source": [
    "df_base = df_base.merge(df_products_unq, on='productCode', how='left', validate='m:1') \n",
    "print(df_base.shape)"
   ]
  },
  {
   "cell_type": "code",
   "execution_count": 175,
   "id": "3696abe0",
   "metadata": {},
   "outputs": [
    {
     "name": "stdout",
     "output_type": "stream",
     "text": [
      "(5992, 55)\n"
     ]
    }
   ],
   "source": [
    "df_base = df_base.merge(df_customers_unq, on='customerNumber', how='left', validate='m:1')\n",
    "print(df_base.shape)"
   ]
  },
  {
   "cell_type": "code",
   "execution_count": 181,
   "id": "3e67c5f0",
   "metadata": {},
   "outputs": [
    {
     "name": "stdout",
     "output_type": "stream",
     "text": [
      "(5992, 62)\n"
     ]
    }
   ],
   "source": [
    "df_base = df_base.merge(df_employees_unq, on='employeeNumber', how='left', validate='m:1')\n",
    "print(df_base.shape) "
   ]
  },
  {
   "cell_type": "code",
   "execution_count": 182,
   "id": "4a564925",
   "metadata": {},
   "outputs": [
    {
     "data": {
      "text/plain": [
       "Index(['orderNumber', 'orderDate', 'requiredDate', 'shippedDate', 'status',\n",
       "       'comments', 'customerNumber', 'productCode', 'quantityOrdered',\n",
       "       'priceEach', 'orderLineNumber', 'customerName_x', 'contactLastName_x',\n",
       "       'contactFirstName_x', 'phone_x', 'addressLine1_x', 'addressLine2_x',\n",
       "       'city_x', 'state_x', 'postalCode_x', 'country_x', 'employeeNumber_x',\n",
       "       'creditLimit_x', 'customerName_y', 'contactLastName_y',\n",
       "       'contactFirstName_y', 'phone_y', 'addressLine1_y', 'addressLine2_y',\n",
       "       'city_y', 'state_y', 'postalCode_y', 'country_y', 'employeeNumber_y',\n",
       "       'creditLimit_y', 'productName', 'productLine', 'productScale',\n",
       "       'productVendor', 'productDescription', 'quantityInStock', 'buyPrice',\n",
       "       'MSRP', 'customerName', 'contactLastName', 'contactFirstName', 'phone',\n",
       "       'addressLine1', 'addressLine2', 'city', 'state', 'postalCode',\n",
       "       'country', 'employeeNumber', 'creditLimit', 'lastName', 'firstName',\n",
       "       'extension', 'email', 'officeCode', 'reportsTo', 'jobTitle'],\n",
       "      dtype='object')"
      ]
     },
     "execution_count": 182,
     "metadata": {},
     "output_type": "execute_result"
    }
   ],
   "source": [
    "df_base.columns"
   ]
  },
  {
   "cell_type": "markdown",
   "id": "e9ddf663",
   "metadata": {},
   "source": [
    "# 3. Agrega las siguientes columnas, considerando su nombre y la fórmula asociada\n",
    "## - venta: quantityOrdered*priceEach\n",
    "## - costo: quantityOrdered*buyPrice\n",
    "## - ganancia: considerando las columnas anteriores\n"
   ]
  },
  {
   "cell_type": "code",
   "execution_count": 184,
   "id": "9c97287a",
   "metadata": {},
   "outputs": [],
   "source": [
    "df_base['venta'] = df_base['quantityOrdered'] * df_base['priceEach']\n",
    "df_base['costo'] = df_base['quantityOrdered'] * df_base['buyPrice']\n",
    "df_base['ganancia'] = df_base['venta'] - df_base['costo']"
   ]
  },
  {
   "cell_type": "code",
   "execution_count": 186,
   "id": "380261a0",
   "metadata": {},
   "outputs": [
    {
     "data": {
      "text/plain": [
       "Index(['orderNumber', 'orderDate', 'requiredDate', 'shippedDate', 'status',\n",
       "       'comments', 'customerNumber', 'productCode', 'quantityOrdered',\n",
       "       'priceEach', 'orderLineNumber', 'customerName_x', 'contactLastName_x',\n",
       "       'contactFirstName_x', 'phone_x', 'addressLine1_x', 'addressLine2_x',\n",
       "       'city_x', 'state_x', 'postalCode_x', 'country_x', 'employeeNumber_x',\n",
       "       'creditLimit_x', 'customerName_y', 'contactLastName_y',\n",
       "       'contactFirstName_y', 'phone_y', 'addressLine1_y', 'addressLine2_y',\n",
       "       'city_y', 'state_y', 'postalCode_y', 'country_y', 'employeeNumber_y',\n",
       "       'creditLimit_y', 'productName', 'productLine', 'productScale',\n",
       "       'productVendor', 'productDescription', 'quantityInStock', 'buyPrice',\n",
       "       'MSRP', 'customerName', 'contactLastName', 'contactFirstName', 'phone',\n",
       "       'addressLine1', 'addressLine2', 'city', 'state', 'postalCode',\n",
       "       'country', 'employeeNumber', 'creditLimit', 'lastName', 'firstName',\n",
       "       'extension', 'email', 'officeCode', 'reportsTo', 'jobTitle', 'venta',\n",
       "       'costo', 'ganancia'],\n",
       "      dtype='object')"
      ]
     },
     "execution_count": 186,
     "metadata": {},
     "output_type": "execute_result"
    }
   ],
   "source": [
    "df_base.columns"
   ]
  },
  {
   "cell_type": "markdown",
   "id": "0bfdd4e1",
   "metadata": {},
   "source": [
    "## 4. ¿Cuál fue el total de ventas por línea de productos? Incluye una fila de totales."
   ]
  },
  {
   "cell_type": "code",
   "execution_count": 199,
   "id": "cfb9675c",
   "metadata": {},
   "outputs": [
    {
     "name": "stdout",
     "output_type": "stream",
     "text": [
      "total de ventas por linea de productos:         productLine  total_ventas\n",
      "0      Classic Cars    7707844.98\n",
      "1       Motorcycles    2242852.24\n",
      "2            Planes    1909275.08\n",
      "3             Ships    1327996.68\n",
      "4            Trains     377065.84\n",
      "5  Trucks and Buses    2048227.14\n",
      "6      Vintage Cars    3595119.26\n"
     ]
    }
   ],
   "source": [
    "# Agrupar por línea de productos y sumar las ventas\n",
    "total_ventas_por_linea = df_base.groupby('productLine')['venta'].sum().reset_index(name='total_ventas')\n",
    "\n",
    "# Agregar una columna de totales al DataFrame original\n",
    "df_base = pd.merge(df_base, total_ventas_por_linea, on='productLine', how='left')\n",
    "print(f\"total de ventas por linea de productos: {total_ventas_por_linea}\")"
   ]
  },
  {
   "cell_type": "code",
   "execution_count": 195,
   "id": "d3106e1d",
   "metadata": {},
   "outputs": [
    {
     "data": {
      "text/plain": [
       "Index(['orderNumber', 'orderDate', 'requiredDate', 'shippedDate', 'status',\n",
       "       'comments', 'customerNumber', 'productCode', 'quantityOrdered',\n",
       "       'priceEach', 'orderLineNumber', 'customerName_x', 'contactLastName_x',\n",
       "       'contactFirstName_x', 'phone_x', 'addressLine1_x', 'addressLine2_x',\n",
       "       'city_x', 'state_x', 'postalCode_x', 'country_x', 'employeeNumber_x',\n",
       "       'creditLimit_x', 'customerName_y', 'contactLastName_y',\n",
       "       'contactFirstName_y', 'phone_y', 'addressLine1_y', 'addressLine2_y',\n",
       "       'city_y', 'state_y', 'postalCode_y', 'country_y', 'employeeNumber_y',\n",
       "       'creditLimit_y', 'productName', 'productLine', 'productScale',\n",
       "       'productVendor', 'productDescription', 'quantityInStock', 'buyPrice',\n",
       "       'MSRP', 'customerName', 'contactLastName', 'contactFirstName', 'phone',\n",
       "       'addressLine1', 'addressLine2', 'city', 'state', 'postalCode',\n",
       "       'country', 'employeeNumber', 'creditLimit', 'lastName', 'firstName',\n",
       "       'extension', 'email', 'officeCode', 'reportsTo', 'jobTitle', 'venta',\n",
       "       'costo', 'ganancia', 'total_ventas'],\n",
       "      dtype='object')"
      ]
     },
     "execution_count": 195,
     "metadata": {},
     "output_type": "execute_result"
    }
   ],
   "source": [
    "df_base.columns"
   ]
  },
  {
   "cell_type": "markdown",
   "id": "09f3c4c8",
   "metadata": {},
   "source": [
    "## 5. ¿Cuántos clientes distintos hicieron compras?"
   ]
  },
  {
   "cell_type": "code",
   "execution_count": 197,
   "id": "43a786e7",
   "metadata": {},
   "outputs": [
    {
     "name": "stdout",
     "output_type": "stream",
     "text": [
      "Número de clientes diferentes que hicieron compras: 98\n"
     ]
    }
   ],
   "source": [
    "#df_base ya está definido y cargado con datos\n",
    "clientes_diferentes = df_base['customerName'].nunique()\n",
    "print(f\"Número de clientes diferentes que hicieron compras: {clientes_diferentes}\")"
   ]
  },
  {
   "cell_type": "markdown",
   "id": "7cadf38d",
   "metadata": {},
   "source": [
    "## 6. ¿Existen clientes que aún no han hecho ninguna compra? ¿Cuántos son?"
   ]
  },
  {
   "cell_type": "code",
   "execution_count": 201,
   "id": "9f99ad09",
   "metadata": {},
   "outputs": [
    {
     "name": "stdout",
     "output_type": "stream",
     "text": [
      "Todos los clientes han realizado compras.\n",
      "Número de clientes sin compras: 0\n"
     ]
    }
   ],
   "source": [
    "clientes_sin_compras = df_base[df_base['venta'].isnull() | (df_base['venta'] == 0)]\n",
    "\n",
    "if clientes_sin_compras.empty:\n",
    "    print(\"Todos los clientes han realizado compras.\")\n",
    "else:\n",
    "    print(\"Existen clientes que aún no han hecho ninguna compra.\")\n",
    "\n",
    "# Para determinar cuántos son:\n",
    "cantidad_clientes_sin_compras = len(clientes_sin_compras)\n",
    "print(f\"Número de clientes sin compras: {cantidad_clientes_sin_compras}\")"
   ]
  },
  {
   "cell_type": "markdown",
   "id": "704554e2",
   "metadata": {},
   "source": [
    "## ¿Cuáles fueron los 10 clientes que reportan mayores ventas brutas en dinero durante\n",
    "## el año 2005? Genera un DataFrame y guárdalo en una tabla de Postgre llamada\n",
    "## top_10_clientes_2005, en la que se especifique el nombre del cliente y su\n",
    "## correspondiente venta, costo y ganancia."
   ]
  },
  {
   "cell_type": "code",
   "execution_count": 213,
   "id": "bb2b128c",
   "metadata": {},
   "outputs": [
    {
     "name": "stdout",
     "output_type": "stream",
     "text": [
      "                    customerName  total_sales  total_cost  total_profit\n",
      "12        Euro+ Shopping Channel    580037.04   339979.94     240057.10\n",
      "27  Mini Gifts Distributors Ltd.    384963.46   230169.44     154794.02\n",
      "21             La Rochelle Gifts    182294.22   111054.08      71240.14\n",
      "39     The Sharp Gifts Warehouse    167969.78   101686.04      66283.74\n",
      "10    Down Under Souveniers, Inc    150040.26    92779.04      57261.22\n",
      "1        Anna's Decorations, Ltd    113864.60    70829.80      43034.80\n",
      "33         Salzburg Collectables    104840.14    67072.52      37767.62\n",
      "16             Gifts4AllAges.com    101613.70    66442.50      35171.20\n",
      "7       Corporate Gift Ideas Co.     93563.32    57122.62      36440.70\n",
      "28       Oulu Toy Supplies, Inc.     93541.04    54987.22      38553.82\n"
     ]
    }
   ],
   "source": [
    "\n",
    "df_base['orderDate'] = pd.to_datetime(df_base['orderDate']) #Convierte orderDate en datetime \n",
    "df_2005 = df_base[df_base['orderDate'].dt.year == 2005] # Filtra la data del 2005\n",
    "\n",
    "# Calculo de  total_sales, total_cost y total_profit de cada customerName\n",
    "df_customer_totals = df_2005.groupby('customerName').agg( \n",
    "    total_sales=pd.NamedAgg(column='venta', aggfunc='sum'),\n",
    "    total_cost=pd.NamedAgg(column='costo', aggfunc='sum'),\n",
    "    total_profit=pd.NamedAgg(column='ganancia', aggfunc='sum')\n",
    ").reset_index()\n",
    "\n",
    "df_customer_totals.sort_values(by='total_sales', ascending=False, inplace=True) # Ordena el df descendente\n",
    "top_10_customers = df_customer_totals.head(10) # Selecciona los 10 superiores\n",
    "\n",
    "# Coneccion a PostgreSQL y guarda el df en una tabla\n",
    "conn = psycopg2.connect(user = 'postgres', password = clave, host = '127.0.0.1', port = 5433, database = 'classicmodels')\n",
    "\n",
    "# Crea un cursor para modificar la db\n",
    "cur = conn.cursor()\n",
    "# Crea la tabla top_10_clientes_2005\n",
    "cur.execute(\"\"\"\n",
    "    CREATE TABLE IF NOT EXISTS top_10_clientes_2005 (\n",
    "        customerName VARCHAR,\n",
    "        total_sales NUMERIC,\n",
    "        total_cost NUMERIC,\n",
    "        total_profit NUMERIC\n",
    "    )\n",
    "\"\"\")\n",
    "# Carga la tabla desde top_10_customers\n",
    "for _, row in top_10_customers.iterrows():\n",
    "    cur.execute(\"\"\"\n",
    "        INSERT INTO top_10_clientes_2005 (customerName, total_sales, total_cost, total_profit)\n",
    "        VALUES (%s, %s, %s, %s)\n",
    "    \"\"\", (row['customerName'], row['total_sales'], row['total_cost'], row['total_profit']))\n",
    "# Commit para guardar y cerrar\n",
    "conn.commit()\n",
    "conn.close()\n",
    "# Print los top 10 customers\n",
    "print(top_10_customers)\n",
    "\n"
   ]
  },
  {
   "cell_type": "code",
   "execution_count": 214,
   "id": "4f464cf4",
   "metadata": {},
   "outputs": [
    {
     "name": "stdout",
     "output_type": "stream",
     "text": [
      "                             productName  total_sales  total_cost  \\\n",
      "76           1992 Ferrari 360 Spider red    105956.56    54062.60   \n",
      "91  2003 Harley-Davidson Eagle Drag Bike     69712.24    38046.36   \n",
      "36              1952 Alpine Renault 1300     68074.40    34305.84   \n",
      "55                     1968 Ford Mustang     63399.02    34322.40   \n",
      "39               1956 Porsche 356A Coupe     62864.28    50133.00   \n",
      "89                      2002 Suzuki XREO     60868.18    30616.74   \n",
      "58                    1969 Dodge Charger     59134.54    31949.12   \n",
      "83                     1997 BMW R 1100 S     57495.38    32986.12   \n",
      "9               1917 Grand Touring Sedan     55661.40    32772.60   \n",
      "67                   1972 Alfa Romeo GTA     54451.68    37356.48   \n",
      "\n",
      "    total_profit  \n",
      "76      51893.96  \n",
      "91      31665.88  \n",
      "36      33768.56  \n",
      "55      29076.62  \n",
      "39      12731.28  \n",
      "89      30251.44  \n",
      "58      27185.42  \n",
      "83      24509.26  \n",
      "9       22888.80  \n",
      "67      17095.20  \n"
     ]
    }
   ],
   "source": [
    "\n",
    "df_2005 = df_base[df_base['orderDate'].dt.year == 2005] # Filtra la data del 2005\n",
    "\n",
    "# Calculo de  total_sales, total_cost y total_profit de cada product\n",
    "df_product_totals = df_2005.groupby('productName').agg(\n",
    "    total_sales=pd.NamedAgg(column='venta', aggfunc='sum'),\n",
    "    total_cost=pd.NamedAgg(column='costo', aggfunc='sum'),\n",
    "    total_profit=pd.NamedAgg(column='ganancia', aggfunc='sum')\n",
    ").reset_index()\n",
    "\n",
    "df_product_totals.sort_values(by='total_sales', ascending=False, inplace=True)  # Ordena el df descendente\n",
    "\n",
    "top_10_products = df_product_totals.head(10) # Selecciona los 10 superiores\n",
    "\n",
    "# Coneccion a PostgreSQL y guarda el df en una tabla\n",
    "conn = psycopg2.connect(user = 'postgres', password = clave, host = '127.0.0.1', port = 5433, database = 'classicmodels')\n",
    "\n",
    "# Crea un cursor para modificar la db\n",
    "cur = conn.cursor()\n",
    "# Crea la tabla\n",
    "cur.execute(\"\"\"\n",
    "    CREATE TABLE IF NOT EXISTS top_10_productos_2005 (\n",
    "        productName VARCHAR,\n",
    "        total_sales NUMERIC,\n",
    "        total_cost NUMERIC,\n",
    "        total_profit NUMERIC\n",
    "    )\n",
    "\"\"\")\n",
    "\n",
    "# Carga la tabla desde top_10_products\n",
    "for _, row in top_10_products.iterrows():\n",
    "    cur.execute(\"\"\"\n",
    "        INSERT INTO top_10_productos_2005 (productName, total_sales, total_cost, total_profit)\n",
    "        VALUES (%s, %s, %s, %s)\n",
    "    \"\"\", (row['productName'], row['total_sales'], row['total_cost'], row['total_profit']))\n",
    "\n",
    "# Commit para guardar y cerrar\n",
    "conn.commit()\n",
    "conn.close()\n",
    "\n",
    "# Print los top 10 customers\n",
    "print(top_10_products)\n"
   ]
  },
  {
   "cell_type": "code",
   "execution_count": null,
   "id": "187acfcd",
   "metadata": {},
   "outputs": [],
   "source": []
  }
 ],
 "metadata": {
  "kernelspec": {
   "display_name": "Python 3 (ipykernel)",
   "language": "python",
   "name": "python3"
  },
  "language_info": {
   "codemirror_mode": {
    "name": "ipython",
    "version": 3
   },
   "file_extension": ".py",
   "mimetype": "text/x-python",
   "name": "python",
   "nbconvert_exporter": "python",
   "pygments_lexer": "ipython3",
   "version": "3.10.2"
  }
 },
 "nbformat": 4,
 "nbformat_minor": 5
}
